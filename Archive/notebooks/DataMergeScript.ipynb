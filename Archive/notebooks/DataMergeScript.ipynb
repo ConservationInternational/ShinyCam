{
 "cells": [
  {
   "cell_type": "code",
   "execution_count": 1,
   "metadata": {
    "collapsed": true
   },
   "outputs": [],
   "source": [
    "import pandas as pd\n",
    "import numpy as np\n",
    "from datetime import datetime\n",
    "from datetime import timedelta"
   ]
  },
  {
   "cell_type": "code",
   "execution_count": 10,
   "metadata": {
    "collapsed": true
   },
   "outputs": [],
   "source": [
    "def fn(df, threshold):\n",
    "    return pd.DataFrame(df.groupby(['Sampling Period', 'Site Name', 'Sampling Unit Name','Genus', 'Species']).apply(lambda x: x[x['Time Between Photos'] < threshold]['Number of Animals'].max()), columns = ['Number of Animals']).reset_index()"
   ]
  },
  {
   "cell_type": "code",
   "execution_count": 91,
   "metadata": {
    "collapsed": true
   },
   "outputs": [],
   "source": [
    "def fn_marin(df, threshold):\n",
    "    return pd.DataFrame(df.groupby(['Sampling Period', 'Project ID.1', 'Deployment Location ID', 'Genus', 'Species']).apply(lambda x: x[x['Time Between Photos'] < threshold]['Count'].max()), columns = ['Number of Animals']).reset_index()"
   ]
  },
  {
   "cell_type": "code",
   "execution_count": 8,
   "metadata": {
    "collapsed": false
   },
   "outputs": [
    {
     "name": "stderr",
     "output_type": "stream",
     "text": [
      "/Users/terencekwt/Code/datadive_201608_ci/env/lib/python2.7/site-packages/IPython/core/interactiveshell.py:2717: DtypeWarning: Columns (10,19,20,21,26,27,29,30,31,32,34,37) have mixed types. Specify dtype option on import or set low_memory=False.\n",
      "  interactivity=interactivity, compiler=compiler, result=result)\n"
     ]
    }
   ],
   "source": [
    "team = pd.read_csv('../data/Terrestrial_Vertebrate.csv', index_col=0)"
   ]
  },
  {
   "cell_type": "code",
   "execution_count": 9,
   "metadata": {
    "collapsed": false
   },
   "outputs": [
    {
     "data": {
      "text/plain": [
       "Index([u'Site Name', u'Sampling Unit Name', u'Latitude', u'Longitude',\n",
       "       u'Sampling Period', u'Photo Type', u'Photo Date', u'Photo Time',\n",
       "       u'Raw Name', u'Photo Notes', u'Photo ID URL', u'Class', u'Order',\n",
       "       u'Family', u'Genus', u'Species', u'Number of Animals',\n",
       "       u'Person Identifying the Photo', u'Camera Serial Number',\n",
       "       u'Memory Card Serial Number', u'Camera Notes',\n",
       "       u'Camera Start Date and Time', u'Camera End Date and Time',\n",
       "       u'Person setting up the Camera', u'Person picking up the Camera',\n",
       "       u'Camera Make', u'Camera Model', u'Flash', u'Exposure Time',\n",
       "       u'Sequence Info', u'Triplet Number', u'Moon Phase', u'Temperature',\n",
       "       u'Camera Firmware Version', u'Protocol Version',\n",
       "       u'Data Set Creator Institutions', u'Data Set Creator Scientist',\n",
       "       u'Data Set Contact', u'Data Level'],\n",
       "      dtype='object')"
      ]
     },
     "execution_count": 9,
     "metadata": {},
     "output_type": "execute_result"
    }
   ],
   "source": [
    "team.columns"
   ]
  },
  {
   "cell_type": "code",
   "execution_count": 11,
   "metadata": {
    "collapsed": true
   },
   "outputs": [],
   "source": [
    "team = team.sort_values(['Site Name', 'Sampling Unit Name', 'Genus', 'Species', 'Photo Time'])\n",
    "team = team.reset_index()"
   ]
  },
  {
   "cell_type": "code",
   "execution_count": 13,
   "metadata": {
    "collapsed": false
   },
   "outputs": [
    {
     "data": {
      "text/plain": [
       "Index([u'ID', u'Site Name', u'Sampling Unit Name', u'Latitude', u'Longitude',\n",
       "       u'Sampling Period', u'Photo Type', u'Photo Date', u'Photo Time',\n",
       "       u'Raw Name', u'Photo Notes', u'Photo ID URL', u'Class', u'Order',\n",
       "       u'Family', u'Genus', u'Species', u'Number of Animals',\n",
       "       u'Person Identifying the Photo', u'Camera Serial Number',\n",
       "       u'Memory Card Serial Number', u'Camera Notes',\n",
       "       u'Camera Start Date and Time', u'Camera End Date and Time',\n",
       "       u'Person setting up the Camera', u'Person picking up the Camera',\n",
       "       u'Camera Make', u'Camera Model', u'Flash', u'Exposure Time',\n",
       "       u'Sequence Info', u'Triplet Number', u'Moon Phase', u'Temperature',\n",
       "       u'Camera Firmware Version', u'Protocol Version',\n",
       "       u'Data Set Creator Institutions', u'Data Set Creator Scientist',\n",
       "       u'Data Set Contact', u'Data Level'],\n",
       "      dtype='object')"
      ]
     },
     "execution_count": 13,
     "metadata": {},
     "output_type": "execute_result"
    }
   ],
   "source": [
    "team.columns"
   ]
  },
  {
   "cell_type": "code",
   "execution_count": 14,
   "metadata": {
    "collapsed": true
   },
   "outputs": [],
   "source": [
    "team['NEW_PHOTO_TIME'] = team['Photo Date'] + ' ' + team['Photo Time']\n",
    "team['NEW_PHOTO_TIME'] = pd.to_datetime(team['NEW_PHOTO_TIME'])"
   ]
  },
  {
   "cell_type": "code",
   "execution_count": 15,
   "metadata": {
    "collapsed": true
   },
   "outputs": [],
   "source": [
    "team['Time Between Photos'] = team['NEW_PHOTO_TIME'] - team['NEW_PHOTO_TIME'].shift()\n",
    "team['Time Between Photos'].fillna(timedelta(0), inplace=True)\n",
    "\n",
    "\n",
    "team['Species'].dropna(inplace=True)\n",
    "\n",
    "team['Time Between Photos'] = team['Time Between Photos'].astype('timedelta64[s]')\n",
    "team['Time Between Photos'] = team['Time Between Photos'].apply(lambda x: 0 if x > 100 else x)"
   ]
  },
  {
   "cell_type": "code",
   "execution_count": 16,
   "metadata": {
    "collapsed": true
   },
   "outputs": [],
   "source": [
    "team_new = fn(team, 3)"
   ]
  },
  {
   "cell_type": "code",
   "execution_count": 19,
   "metadata": {
    "collapsed": false
   },
   "outputs": [
    {
     "data": {
      "text/html": [
       "<div>\n",
       "<table border=\"1\" class=\"dataframe\">\n",
       "  <thead>\n",
       "    <tr style=\"text-align: right;\">\n",
       "      <th></th>\n",
       "      <th>Sampling Period</th>\n",
       "      <th>Site Name</th>\n",
       "      <th>Sampling Unit Name</th>\n",
       "      <th>Genus</th>\n",
       "      <th>Species</th>\n",
       "      <th>Number of Animals</th>\n",
       "    </tr>\n",
       "  </thead>\n",
       "  <tbody>\n",
       "    <tr>\n",
       "      <th>0</th>\n",
       "      <td>2007.01</td>\n",
       "      <td>Volcán Barva</td>\n",
       "      <td>CT-VB-1-1</td>\n",
       "      <td>Cuniculus</td>\n",
       "      <td>paca</td>\n",
       "      <td>1.0</td>\n",
       "    </tr>\n",
       "    <tr>\n",
       "      <th>1</th>\n",
       "      <td>2007.01</td>\n",
       "      <td>Volcán Barva</td>\n",
       "      <td>CT-VB-1-1</td>\n",
       "      <td>Dasyprocta</td>\n",
       "      <td>punctata</td>\n",
       "      <td>1.0</td>\n",
       "    </tr>\n",
       "    <tr>\n",
       "      <th>2</th>\n",
       "      <td>2007.01</td>\n",
       "      <td>Volcán Barva</td>\n",
       "      <td>CT-VB-1-1</td>\n",
       "      <td>Dasypus</td>\n",
       "      <td>novemcinctus</td>\n",
       "      <td>1.0</td>\n",
       "    </tr>\n",
       "    <tr>\n",
       "      <th>3</th>\n",
       "      <td>2007.01</td>\n",
       "      <td>Volcán Barva</td>\n",
       "      <td>CT-VB-1-1</td>\n",
       "      <td>Didelphis</td>\n",
       "      <td>marsupialis</td>\n",
       "      <td>1.0</td>\n",
       "    </tr>\n",
       "    <tr>\n",
       "      <th>4</th>\n",
       "      <td>2007.01</td>\n",
       "      <td>Volcán Barva</td>\n",
       "      <td>CT-VB-1-1</td>\n",
       "      <td>Homo</td>\n",
       "      <td>sapiens</td>\n",
       "      <td>1.0</td>\n",
       "    </tr>\n",
       "  </tbody>\n",
       "</table>\n",
       "</div>"
      ],
      "text/plain": [
       "   Sampling Period     Site Name Sampling Unit Name       Genus       Species  \\\n",
       "0          2007.01  Volcán Barva          CT-VB-1-1   Cuniculus          paca   \n",
       "1          2007.01  Volcán Barva          CT-VB-1-1  Dasyprocta      punctata   \n",
       "2          2007.01  Volcán Barva          CT-VB-1-1     Dasypus  novemcinctus   \n",
       "3          2007.01  Volcán Barva          CT-VB-1-1   Didelphis   marsupialis   \n",
       "4          2007.01  Volcán Barva          CT-VB-1-1        Homo       sapiens   \n",
       "\n",
       "   Number of Animals  \n",
       "0                1.0  \n",
       "1                1.0  \n",
       "2                1.0  \n",
       "3                1.0  \n",
       "4                1.0  "
      ]
     },
     "execution_count": 19,
     "metadata": {},
     "output_type": "execute_result"
    }
   ],
   "source": [
    "team_new.head()"
   ]
  },
  {
   "cell_type": "code",
   "execution_count": 20,
   "metadata": {
    "collapsed": true
   },
   "outputs": [],
   "source": [
    "team_new.to_csv('../data/Max_Animals_TEAM_data.csv')"
   ]
  },
  {
   "cell_type": "code",
   "execution_count": 49,
   "metadata": {
    "collapsed": false
   },
   "outputs": [],
   "source": [
    "marin = pd.read_csv('../data/Marin_Merged.csv', index_col=0)"
   ]
  },
  {
   "cell_type": "code",
   "execution_count": 50,
   "metadata": {
    "collapsed": false
   },
   "outputs": [
    {
     "data": {
      "text/plain": [
       "Index([u'Deployment ID', u'Event', u'Array Name', u'Deployment Location ID',\n",
       "       u'Longitude Resolution', u'Latitude Resolution',\n",
       "       u'Camera Deployment Begin Date', u'Camera Deployment End Date',\n",
       "       u'Bait Type', u'Bait Description', u'Feature Type',\n",
       "       u'Feature Type methodology', u'Camera ID', u'Quiet Period Setting',\n",
       "       u'Restriction on access', u'Camera Failure Details', u'Make', u'Model',\n",
       "       u'Serial Number', u'Year Purchased', u'Project ID.1', u'Image ID',\n",
       "       u'Location', u'Photo Type', u'Photo Type Identified by', u'Uncertainty',\n",
       "       u'IUCN Identification Number', u'Date_Time Captured', u'Age', u'Sex',\n",
       "       u'Individual ID', u'Count', u'Animal recognizable (Y/N)',\n",
       "       u'individual Animal notes', u'Genus', u'Species'],\n",
       "      dtype='object')"
      ]
     },
     "execution_count": 50,
     "metadata": {},
     "output_type": "execute_result"
    }
   ],
   "source": [
    "marin.columns"
   ]
  },
  {
   "cell_type": "code",
   "execution_count": 61,
   "metadata": {
    "collapsed": false
   },
   "outputs": [
    {
     "name": "stdout",
     "output_type": "stream",
     "text": [
      "2014-09-22 08:12:40\n",
      "2014-09-22 08:12:40\n"
     ]
    }
   ],
   "source": [
    "print marin[\"Date_Time Captured\"][0]\n",
    "print pd.to_datetime(marin[\"Date_Time Captured\"][0], format = \"%Y-%m-%d %H:%M:%S\")"
   ]
  },
  {
   "cell_type": "code",
   "execution_count": 65,
   "metadata": {
    "collapsed": false
   },
   "outputs": [
    {
     "data": {
      "text/plain": [
       "str"
      ]
     },
     "execution_count": 65,
     "metadata": {},
     "output_type": "execute_result"
    }
   ],
   "source": [
    "# 2015-04-01 22:46:18 PM\n",
    "\n",
    "type(marin[\"Date_Time Captured\"][1])"
   ]
  },
  {
   "cell_type": "code",
   "execution_count": 76,
   "metadata": {
    "collapsed": false
   },
   "outputs": [],
   "source": [
    "# marin[\"Date_Time Captured\"].apply(lambda x: x.replace(\"PM\", \"\"))\n",
    "# marin[\"Date_Time Captured\"].apply(lambda x: x.replace(\"AM\", \"\"))"
   ]
  },
  {
   "cell_type": "code",
   "execution_count": 77,
   "metadata": {
    "collapsed": false
   },
   "outputs": [],
   "source": [
    "marin['NEW_PHOTO_TIME'] = pd.to_datetime(marin['Date_Time Captured'], format = \"%Y-%m-%d %H:%M:%S\")"
   ]
  },
  {
   "cell_type": "code",
   "execution_count": 78,
   "metadata": {
    "collapsed": false
   },
   "outputs": [],
   "source": [
    "marin['Time Between Photos'] = marin['NEW_PHOTO_TIME'] - marin['NEW_PHOTO_TIME'].shift()\n",
    "marin['Time Between Photos'].fillna(timedelta(0), inplace=True)"
   ]
  },
  {
   "cell_type": "code",
   "execution_count": 79,
   "metadata": {
    "collapsed": false
   },
   "outputs": [],
   "source": [
    "marin = marin[marin['Species'] != 'unknown']"
   ]
  },
  {
   "cell_type": "code",
   "execution_count": 80,
   "metadata": {
    "collapsed": true
   },
   "outputs": [],
   "source": [
    "marin['Species'].dropna(inplace=True)"
   ]
  },
  {
   "cell_type": "code",
   "execution_count": 83,
   "metadata": {
    "collapsed": false
   },
   "outputs": [],
   "source": [
    "marin['Time Between Photos'] = marin['Time Between Photos'].astype('timedelta64[s]')\n",
    "marin['Time Between Photos'] = marin['Time Between Photos'].apply(lambda x: 0 if x > 100 else x)"
   ]
  },
  {
   "cell_type": "code",
   "execution_count": 85,
   "metadata": {
    "collapsed": false
   },
   "outputs": [],
   "source": [
    "marin['Date_Time Captured'].dropna(inplace=True)\n",
    "marin['Sampling Period'] = marin['Date_Time Captured'].apply(lambda x: x[0:7])"
   ]
  },
  {
   "cell_type": "code",
   "execution_count": 90,
   "metadata": {
    "collapsed": false
   },
   "outputs": [
    {
     "data": {
      "text/plain": [
       "Index([u'Deployment ID', u'Event', u'Array Name', u'Deployment Location ID',\n",
       "       u'Longitude Resolution', u'Latitude Resolution',\n",
       "       u'Camera Deployment Begin Date', u'Camera Deployment End Date',\n",
       "       u'Bait Type', u'Bait Description', u'Feature Type',\n",
       "       u'Feature Type methodology', u'Camera ID', u'Quiet Period Setting',\n",
       "       u'Restriction on access', u'Camera Failure Details', u'Make', u'Model',\n",
       "       u'Serial Number', u'Year Purchased', u'Project ID.1', u'Image ID',\n",
       "       u'Location', u'Photo Type', u'Photo Type Identified by', u'Uncertainty',\n",
       "       u'IUCN Identification Number', u'Date_Time Captured', u'Age', u'Sex',\n",
       "       u'Individual ID', u'Count', u'Animal recognizable (Y/N)',\n",
       "       u'individual Animal notes', u'Genus', u'Species', u'NEW_PHOTO_TIME',\n",
       "       u'Time Between Photos', u'Sampling Period'],\n",
       "      dtype='object')"
      ]
     },
     "execution_count": 90,
     "metadata": {},
     "output_type": "execute_result"
    }
   ],
   "source": [
    "marin.columns"
   ]
  },
  {
   "cell_type": "code",
   "execution_count": 92,
   "metadata": {
    "collapsed": false
   },
   "outputs": [],
   "source": [
    "marin_new = fn_marin(marin, 3)"
   ]
  },
  {
   "cell_type": "code",
   "execution_count": 93,
   "metadata": {
    "collapsed": false
   },
   "outputs": [],
   "source": [
    "marin_new.to_csv('../data/Max_Animals_MARIN_data.csv')"
   ]
  },
  {
   "cell_type": "code",
   "execution_count": null,
   "metadata": {
    "collapsed": true
   },
   "outputs": [],
   "source": []
  }
 ],
 "metadata": {
  "kernelspec": {
   "display_name": "Python 2",
   "language": "python",
   "name": "python2"
  },
  "language_info": {
   "codemirror_mode": {
    "name": "ipython",
    "version": 2
   },
   "file_extension": ".py",
   "mimetype": "text/x-python",
   "name": "python",
   "nbconvert_exporter": "python",
   "pygments_lexer": "ipython2",
   "version": "2.7.10"
  }
 },
 "nbformat": 4,
 "nbformat_minor": 1
}
