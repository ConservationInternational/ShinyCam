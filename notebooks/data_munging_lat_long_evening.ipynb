{
 "cells": [
  {
   "cell_type": "code",
   "execution_count": 1,
   "metadata": {
    "collapsed": false
   },
   "outputs": [
    {
     "name": "stderr",
     "output_type": "stream",
     "text": [
      "/Users/hemavakade/anaconda2/lib/python2.7/site-packages/IPython/core/interactiveshell.py:2705: DtypeWarning: Columns (11,20,21,22,27,28,30,31,32,33,35,38) have mixed types. Specify dtype option on import or set low_memory=False.\n",
      "  interactivity=interactivity, compiler=compiler, result=result)\n"
     ]
    }
   ],
   "source": [
    "import pandas as pd\n",
    "import numpy as np\n",
    "import ftfy\n",
    "\n",
    "team = pd.read_csv('../EventBurstReduction (1)/Max_Animals_TEAM_data.csv', index_col=0)\n",
    "team['Sampling Period'] = team['Sampling Period'].apply(lambda x: str(x).replace('.', '-'))\n",
    "team['Year'] = team['Sampling Period'].apply(lambda x: x[0:4])\n",
    "\n",
    "lat_long = pd.read_csv('./edited_data/Terrestrial_Vertebrate_Cols_Edited.csv', index_col=0)"
   ]
  },
  {
   "cell_type": "code",
   "execution_count": 2,
   "metadata": {
    "collapsed": false
   },
   "outputs": [
    {
     "data": {
      "text/html": [
       "<div>\n",
       "<table border=\"1\" class=\"dataframe\">\n",
       "  <thead>\n",
       "    <tr style=\"text-align: right;\">\n",
       "      <th></th>\n",
       "      <th>Sampling Period</th>\n",
       "      <th>Site Name</th>\n",
       "      <th>Sampling Unit Name</th>\n",
       "      <th>Species</th>\n",
       "      <th>Number of Animals</th>\n",
       "      <th>Year</th>\n",
       "    </tr>\n",
       "  </thead>\n",
       "  <tbody>\n",
       "    <tr>\n",
       "      <th>0</th>\n",
       "      <td>2007-01</td>\n",
       "      <td>Volcán Barva</td>\n",
       "      <td>CT-VB-1-1</td>\n",
       "      <td>major</td>\n",
       "      <td>1.0</td>\n",
       "      <td>2007</td>\n",
       "    </tr>\n",
       "    <tr>\n",
       "      <th>1</th>\n",
       "      <td>2007-01</td>\n",
       "      <td>Volcán Barva</td>\n",
       "      <td>CT-VB-1-1</td>\n",
       "      <td>marsupialis</td>\n",
       "      <td>1.0</td>\n",
       "      <td>2007</td>\n",
       "    </tr>\n",
       "    <tr>\n",
       "      <th>2</th>\n",
       "      <td>2007-01</td>\n",
       "      <td>Volcán Barva</td>\n",
       "      <td>CT-VB-1-1</td>\n",
       "      <td>novemcinctus</td>\n",
       "      <td>1.0</td>\n",
       "      <td>2007</td>\n",
       "    </tr>\n",
       "    <tr>\n",
       "      <th>3</th>\n",
       "      <td>2007-01</td>\n",
       "      <td>Volcán Barva</td>\n",
       "      <td>CT-VB-1-1</td>\n",
       "      <td>paca</td>\n",
       "      <td>1.0</td>\n",
       "      <td>2007</td>\n",
       "    </tr>\n",
       "    <tr>\n",
       "      <th>4</th>\n",
       "      <td>2007-01</td>\n",
       "      <td>Volcán Barva</td>\n",
       "      <td>CT-VB-1-1</td>\n",
       "      <td>punctata</td>\n",
       "      <td>1.0</td>\n",
       "      <td>2007</td>\n",
       "    </tr>\n",
       "  </tbody>\n",
       "</table>\n",
       "</div>"
      ],
      "text/plain": [
       "  Sampling Period     Site Name Sampling Unit Name       Species  \\\n",
       "0         2007-01  Volcán Barva          CT-VB-1-1         major   \n",
       "1         2007-01  Volcán Barva          CT-VB-1-1   marsupialis   \n",
       "2         2007-01  Volcán Barva          CT-VB-1-1  novemcinctus   \n",
       "3         2007-01  Volcán Barva          CT-VB-1-1          paca   \n",
       "4         2007-01  Volcán Barva          CT-VB-1-1      punctata   \n",
       "\n",
       "   Number of Animals  Year  \n",
       "0                1.0  2007  \n",
       "1                1.0  2007  \n",
       "2                1.0  2007  \n",
       "3                1.0  2007  \n",
       "4                1.0  2007  "
      ]
     },
     "execution_count": 2,
     "metadata": {},
     "output_type": "execute_result"
    }
   ],
   "source": [
    "team.head()"
   ]
  },
  {
   "cell_type": "code",
   "execution_count": 3,
   "metadata": {
    "collapsed": false
   },
   "outputs": [
    {
     "data": {
      "text/plain": [
       "['ID',\n",
       " 'Project.ID',\n",
       " 'Deployment.Location.ID',\n",
       " 'Latitude.Resolution',\n",
       " 'Longitude.Resolution',\n",
       " 'Sampling.Period',\n",
       " 'Photo.Type',\n",
       " 'Photo.Date',\n",
       " 'Photo.Time',\n",
       " 'Image.ID',\n",
       " 'Photo.Notes',\n",
       " 'Location',\n",
       " 'Class',\n",
       " 'Order',\n",
       " 'Family',\n",
       " 'Genus',\n",
       " 'Species',\n",
       " 'Count',\n",
       " 'Photo.Type.Identified.by',\n",
       " 'Camera.Serial.Number',\n",
       " 'Memory.Card.Serial.Number',\n",
       " 'Camera.Notes',\n",
       " 'Camera.Deployment.Begin.Date',\n",
       " 'Camera.Deployment.End.Date',\n",
       " 'Person.setting.up.the.Camera',\n",
       " 'Person.picking.up.the.Camera',\n",
       " 'Camera.Make',\n",
       " 'Camera.Model',\n",
       " 'Flash',\n",
       " 'Exposure.Time',\n",
       " 'Sequence.Info',\n",
       " 'Triplet.Number',\n",
       " 'Moon.Phase',\n",
       " 'Temperature',\n",
       " 'Camera.Firmware.Version',\n",
       " 'Protocol.Version',\n",
       " 'Data.Set.Creator.Institutions',\n",
       " 'Data.Set.Creator.Scientist',\n",
       " 'Data.Set.Contact',\n",
       " 'Data.Level']"
      ]
     },
     "execution_count": 3,
     "metadata": {},
     "output_type": "execute_result"
    }
   ],
   "source": [
    "lat_long.columns.tolist()"
   ]
  },
  {
   "cell_type": "code",
   "execution_count": 4,
   "metadata": {
    "collapsed": false
   },
   "outputs": [],
   "source": [
    "lat_long = lat_long[['Project.ID','Deployment.Location.ID' , 'Latitude.Resolution', 'Longitude.Resolution','Genus']]"
   ]
  },
  {
   "cell_type": "code",
   "execution_count": 5,
   "metadata": {
    "collapsed": false
   },
   "outputs": [
    {
     "data": {
      "text/html": [
       "<div>\n",
       "<table border=\"1\" class=\"dataframe\">\n",
       "  <thead>\n",
       "    <tr style=\"text-align: right;\">\n",
       "      <th></th>\n",
       "      <th>Project.ID</th>\n",
       "      <th>Deployment.Location.ID</th>\n",
       "      <th>Latitude.Resolution</th>\n",
       "      <th>Longitude.Resolution</th>\n",
       "      <th>Genus</th>\n",
       "    </tr>\n",
       "  </thead>\n",
       "  <tbody>\n",
       "    <tr>\n",
       "      <th>1</th>\n",
       "      <td>Yasuni</td>\n",
       "      <td>CT-YAS-1-01</td>\n",
       "      <td>-0.609281</td>\n",
       "      <td>-76.457983</td>\n",
       "      <td>NaN</td>\n",
       "    </tr>\n",
       "    <tr>\n",
       "      <th>2</th>\n",
       "      <td>Yasuni</td>\n",
       "      <td>CT-YAS-1-01</td>\n",
       "      <td>-0.609281</td>\n",
       "      <td>-76.457983</td>\n",
       "      <td>Cuniculus</td>\n",
       "    </tr>\n",
       "    <tr>\n",
       "      <th>3</th>\n",
       "      <td>Yasuni</td>\n",
       "      <td>CT-YAS-1-01</td>\n",
       "      <td>-0.609281</td>\n",
       "      <td>-76.457983</td>\n",
       "      <td>Cuniculus</td>\n",
       "    </tr>\n",
       "    <tr>\n",
       "      <th>4</th>\n",
       "      <td>Yasuni</td>\n",
       "      <td>CT-YAS-1-01</td>\n",
       "      <td>-0.609281</td>\n",
       "      <td>-76.457983</td>\n",
       "      <td>Cuniculus</td>\n",
       "    </tr>\n",
       "    <tr>\n",
       "      <th>5</th>\n",
       "      <td>Yasuni</td>\n",
       "      <td>CT-YAS-1-01</td>\n",
       "      <td>-0.609281</td>\n",
       "      <td>-76.457983</td>\n",
       "      <td>Cuniculus</td>\n",
       "    </tr>\n",
       "  </tbody>\n",
       "</table>\n",
       "</div>"
      ],
      "text/plain": [
       "  Project.ID Deployment.Location.ID  Latitude.Resolution  \\\n",
       "1     Yasuni            CT-YAS-1-01            -0.609281   \n",
       "2     Yasuni            CT-YAS-1-01            -0.609281   \n",
       "3     Yasuni            CT-YAS-1-01            -0.609281   \n",
       "4     Yasuni            CT-YAS-1-01            -0.609281   \n",
       "5     Yasuni            CT-YAS-1-01            -0.609281   \n",
       "\n",
       "   Longitude.Resolution      Genus  \n",
       "1            -76.457983        NaN  \n",
       "2            -76.457983  Cuniculus  \n",
       "3            -76.457983  Cuniculus  \n",
       "4            -76.457983  Cuniculus  \n",
       "5            -76.457983  Cuniculus  "
      ]
     },
     "execution_count": 5,
     "metadata": {},
     "output_type": "execute_result"
    }
   ],
   "source": [
    "lat_long.head()"
   ]
  },
  {
   "cell_type": "code",
   "execution_count": 6,
   "metadata": {
    "collapsed": false
   },
   "outputs": [],
   "source": [
    "team = pd.merge(team, lat_long, left_on=['Site Name','Sampling Unit Name'], right_on =['Project.ID','Deployment.Location.ID'] , how='left')\n",
    "team['Sampling Type'] = 'Annual'\n",
    "team['Data Source'] = 'TEAM'"
   ]
  },
  {
   "cell_type": "code",
   "execution_count": 7,
   "metadata": {
    "collapsed": false
   },
   "outputs": [
    {
     "data": {
      "text/html": [
       "<div>\n",
       "<table border=\"1\" class=\"dataframe\">\n",
       "  <thead>\n",
       "    <tr style=\"text-align: right;\">\n",
       "      <th></th>\n",
       "      <th>Sampling Period</th>\n",
       "      <th>Site Name</th>\n",
       "      <th>Sampling Unit Name</th>\n",
       "      <th>Species</th>\n",
       "      <th>Number of Animals</th>\n",
       "      <th>Year</th>\n",
       "      <th>Project.ID</th>\n",
       "      <th>Deployment.Location.ID</th>\n",
       "      <th>Latitude.Resolution</th>\n",
       "      <th>Longitude.Resolution</th>\n",
       "      <th>Genus</th>\n",
       "      <th>Sampling Type</th>\n",
       "      <th>Data Source</th>\n",
       "    </tr>\n",
       "  </thead>\n",
       "  <tbody>\n",
       "    <tr>\n",
       "      <th>0</th>\n",
       "      <td>2007-01</td>\n",
       "      <td>Volcán Barva</td>\n",
       "      <td>CT-VB-1-1</td>\n",
       "      <td>major</td>\n",
       "      <td>1.0</td>\n",
       "      <td>2007</td>\n",
       "      <td>Volcán Barva</td>\n",
       "      <td>CT-VB-1-1</td>\n",
       "      <td>10.42231</td>\n",
       "      <td>-84.0212</td>\n",
       "      <td>NaN</td>\n",
       "      <td>Annual</td>\n",
       "      <td>TEAM</td>\n",
       "    </tr>\n",
       "    <tr>\n",
       "      <th>1</th>\n",
       "      <td>2007-01</td>\n",
       "      <td>Volcán Barva</td>\n",
       "      <td>CT-VB-1-1</td>\n",
       "      <td>major</td>\n",
       "      <td>1.0</td>\n",
       "      <td>2007</td>\n",
       "      <td>Volcán Barva</td>\n",
       "      <td>CT-VB-1-1</td>\n",
       "      <td>10.42231</td>\n",
       "      <td>-84.0212</td>\n",
       "      <td>Pecari</td>\n",
       "      <td>Annual</td>\n",
       "      <td>TEAM</td>\n",
       "    </tr>\n",
       "    <tr>\n",
       "      <th>2</th>\n",
       "      <td>2007-01</td>\n",
       "      <td>Volcán Barva</td>\n",
       "      <td>CT-VB-1-1</td>\n",
       "      <td>major</td>\n",
       "      <td>1.0</td>\n",
       "      <td>2007</td>\n",
       "      <td>Volcán Barva</td>\n",
       "      <td>CT-VB-1-1</td>\n",
       "      <td>10.42231</td>\n",
       "      <td>-84.0212</td>\n",
       "      <td>Pecari</td>\n",
       "      <td>Annual</td>\n",
       "      <td>TEAM</td>\n",
       "    </tr>\n",
       "    <tr>\n",
       "      <th>3</th>\n",
       "      <td>2007-01</td>\n",
       "      <td>Volcán Barva</td>\n",
       "      <td>CT-VB-1-1</td>\n",
       "      <td>major</td>\n",
       "      <td>1.0</td>\n",
       "      <td>2007</td>\n",
       "      <td>Volcán Barva</td>\n",
       "      <td>CT-VB-1-1</td>\n",
       "      <td>10.42231</td>\n",
       "      <td>-84.0212</td>\n",
       "      <td>Pecari</td>\n",
       "      <td>Annual</td>\n",
       "      <td>TEAM</td>\n",
       "    </tr>\n",
       "    <tr>\n",
       "      <th>4</th>\n",
       "      <td>2007-01</td>\n",
       "      <td>Volcán Barva</td>\n",
       "      <td>CT-VB-1-1</td>\n",
       "      <td>major</td>\n",
       "      <td>1.0</td>\n",
       "      <td>2007</td>\n",
       "      <td>Volcán Barva</td>\n",
       "      <td>CT-VB-1-1</td>\n",
       "      <td>10.42231</td>\n",
       "      <td>-84.0212</td>\n",
       "      <td>Pecari</td>\n",
       "      <td>Annual</td>\n",
       "      <td>TEAM</td>\n",
       "    </tr>\n",
       "  </tbody>\n",
       "</table>\n",
       "</div>"
      ],
      "text/plain": [
       "  Sampling Period     Site Name Sampling Unit Name Species  Number of Animals  \\\n",
       "0         2007-01  Volcán Barva          CT-VB-1-1   major                1.0   \n",
       "1         2007-01  Volcán Barva          CT-VB-1-1   major                1.0   \n",
       "2         2007-01  Volcán Barva          CT-VB-1-1   major                1.0   \n",
       "3         2007-01  Volcán Barva          CT-VB-1-1   major                1.0   \n",
       "4         2007-01  Volcán Barva          CT-VB-1-1   major                1.0   \n",
       "\n",
       "   Year    Project.ID Deployment.Location.ID  Latitude.Resolution  \\\n",
       "0  2007  Volcán Barva              CT-VB-1-1             10.42231   \n",
       "1  2007  Volcán Barva              CT-VB-1-1             10.42231   \n",
       "2  2007  Volcán Barva              CT-VB-1-1             10.42231   \n",
       "3  2007  Volcán Barva              CT-VB-1-1             10.42231   \n",
       "4  2007  Volcán Barva              CT-VB-1-1             10.42231   \n",
       "\n",
       "   Longitude.Resolution   Genus Sampling Type Data Source  \n",
       "0              -84.0212     NaN        Annual        TEAM  \n",
       "1              -84.0212  Pecari        Annual        TEAM  \n",
       "2              -84.0212  Pecari        Annual        TEAM  \n",
       "3              -84.0212  Pecari        Annual        TEAM  \n",
       "4              -84.0212  Pecari        Annual        TEAM  "
      ]
     },
     "execution_count": 7,
     "metadata": {},
     "output_type": "execute_result"
    }
   ],
   "source": [
    "team.head()"
   ]
  },
  {
   "cell_type": "code",
   "execution_count": 8,
   "metadata": {
    "collapsed": true
   },
   "outputs": [],
   "source": [
    "rate = pd.read_csv('./edited_data/team_trap_days.csv', index_col=0).reset_index()"
   ]
  },
  {
   "cell_type": "code",
   "execution_count": 9,
   "metadata": {
    "collapsed": true
   },
   "outputs": [],
   "source": [
    "rate['Sampling.Period'] = rate['Sampling.Period'].apply(lambda x: str(x).replace('.', '-'))"
   ]
  },
  {
   "cell_type": "code",
   "execution_count": 10,
   "metadata": {
    "collapsed": false
   },
   "outputs": [
    {
     "data": {
      "text/html": [
       "<div>\n",
       "<table border=\"1\" class=\"dataframe\">\n",
       "  <thead>\n",
       "    <tr style=\"text-align: right;\">\n",
       "      <th></th>\n",
       "      <th>Project.ID</th>\n",
       "      <th>Deployment.Location.ID</th>\n",
       "      <th>Sampling.Period</th>\n",
       "      <th>trap_days</th>\n",
       "    </tr>\n",
       "  </thead>\n",
       "  <tbody>\n",
       "    <tr>\n",
       "      <th>0</th>\n",
       "      <td>Barro Colorado Nature Monument - Soberania Nat...</td>\n",
       "      <td>CT-BCI-1-01</td>\n",
       "      <td>2010-01</td>\n",
       "      <td>36</td>\n",
       "    </tr>\n",
       "    <tr>\n",
       "      <th>1</th>\n",
       "      <td>Barro Colorado Nature Monument - Soberania Nat...</td>\n",
       "      <td>CT-BCI-1-01</td>\n",
       "      <td>2011-01</td>\n",
       "      <td>33</td>\n",
       "    </tr>\n",
       "    <tr>\n",
       "      <th>2</th>\n",
       "      <td>Barro Colorado Nature Monument - Soberania Nat...</td>\n",
       "      <td>CT-BCI-1-01</td>\n",
       "      <td>2012-01</td>\n",
       "      <td>30</td>\n",
       "    </tr>\n",
       "    <tr>\n",
       "      <th>3</th>\n",
       "      <td>Barro Colorado Nature Monument - Soberania Nat...</td>\n",
       "      <td>CT-BCI-1-01</td>\n",
       "      <td>2013-01</td>\n",
       "      <td>30</td>\n",
       "    </tr>\n",
       "    <tr>\n",
       "      <th>4</th>\n",
       "      <td>Barro Colorado Nature Monument - Soberania Nat...</td>\n",
       "      <td>CT-BCI-1-01</td>\n",
       "      <td>2014-01</td>\n",
       "      <td>37</td>\n",
       "    </tr>\n",
       "  </tbody>\n",
       "</table>\n",
       "</div>"
      ],
      "text/plain": [
       "                                          Project.ID Deployment.Location.ID  \\\n",
       "0  Barro Colorado Nature Monument - Soberania Nat...            CT-BCI-1-01   \n",
       "1  Barro Colorado Nature Monument - Soberania Nat...            CT-BCI-1-01   \n",
       "2  Barro Colorado Nature Monument - Soberania Nat...            CT-BCI-1-01   \n",
       "3  Barro Colorado Nature Monument - Soberania Nat...            CT-BCI-1-01   \n",
       "4  Barro Colorado Nature Monument - Soberania Nat...            CT-BCI-1-01   \n",
       "\n",
       "  Sampling.Period  trap_days  \n",
       "0         2010-01         36  \n",
       "1         2011-01         33  \n",
       "2         2012-01         30  \n",
       "3         2013-01         30  \n",
       "4         2014-01         37  "
      ]
     },
     "execution_count": 10,
     "metadata": {},
     "output_type": "execute_result"
    }
   ],
   "source": [
    "rate.head()"
   ]
  },
  {
   "cell_type": "code",
   "execution_count": 11,
   "metadata": {
    "collapsed": false
   },
   "outputs": [],
   "source": [
    "team = pd.merge(team, rate, left_on= ['Site Name', 'Sampling Unit Name', 'Sampling Period'], how = 'inner',  right_on = ['Project.ID', 'Deployment.Location.ID', 'Sampling.Period'])\n",
    "team['trap_days_per_100'] = team['trap_days']/100.\n",
    "team['Rate Of Detection'] = team['Number of Animals']/team['trap_days_per_100']\n",
    "del team['trap_days_per_100']\n",
    "del team['trap_days']"
   ]
  },
  {
   "cell_type": "code",
   "execution_count": 12,
   "metadata": {
    "collapsed": false
   },
   "outputs": [
    {
     "data": {
      "text/html": [
       "<div>\n",
       "<table border=\"1\" class=\"dataframe\">\n",
       "  <thead>\n",
       "    <tr style=\"text-align: right;\">\n",
       "      <th></th>\n",
       "      <th>Sampling Period</th>\n",
       "      <th>Site Name</th>\n",
       "      <th>Sampling Unit Name</th>\n",
       "      <th>Species</th>\n",
       "      <th>Number of Animals</th>\n",
       "      <th>Year</th>\n",
       "      <th>Project.ID_x</th>\n",
       "      <th>Deployment.Location.ID_x</th>\n",
       "      <th>Latitude.Resolution</th>\n",
       "      <th>Longitude.Resolution</th>\n",
       "      <th>Genus</th>\n",
       "      <th>Sampling Type</th>\n",
       "      <th>Data Source</th>\n",
       "      <th>Project.ID_y</th>\n",
       "      <th>Deployment.Location.ID_y</th>\n",
       "      <th>Sampling.Period</th>\n",
       "      <th>Rate Of Detection</th>\n",
       "    </tr>\n",
       "  </thead>\n",
       "  <tbody>\n",
       "    <tr>\n",
       "      <th>0</th>\n",
       "      <td>2007-01</td>\n",
       "      <td>Volcán Barva</td>\n",
       "      <td>CT-VB-1-1</td>\n",
       "      <td>major</td>\n",
       "      <td>1.0</td>\n",
       "      <td>2007</td>\n",
       "      <td>Volcán Barva</td>\n",
       "      <td>CT-VB-1-1</td>\n",
       "      <td>10.42231</td>\n",
       "      <td>-84.0212</td>\n",
       "      <td>NaN</td>\n",
       "      <td>Annual</td>\n",
       "      <td>TEAM</td>\n",
       "      <td>Volcán Barva</td>\n",
       "      <td>CT-VB-1-1</td>\n",
       "      <td>2007-01</td>\n",
       "      <td>3.333333</td>\n",
       "    </tr>\n",
       "    <tr>\n",
       "      <th>1</th>\n",
       "      <td>2007-01</td>\n",
       "      <td>Volcán Barva</td>\n",
       "      <td>CT-VB-1-1</td>\n",
       "      <td>major</td>\n",
       "      <td>1.0</td>\n",
       "      <td>2007</td>\n",
       "      <td>Volcán Barva</td>\n",
       "      <td>CT-VB-1-1</td>\n",
       "      <td>10.42231</td>\n",
       "      <td>-84.0212</td>\n",
       "      <td>Pecari</td>\n",
       "      <td>Annual</td>\n",
       "      <td>TEAM</td>\n",
       "      <td>Volcán Barva</td>\n",
       "      <td>CT-VB-1-1</td>\n",
       "      <td>2007-01</td>\n",
       "      <td>3.333333</td>\n",
       "    </tr>\n",
       "    <tr>\n",
       "      <th>2</th>\n",
       "      <td>2007-01</td>\n",
       "      <td>Volcán Barva</td>\n",
       "      <td>CT-VB-1-1</td>\n",
       "      <td>major</td>\n",
       "      <td>1.0</td>\n",
       "      <td>2007</td>\n",
       "      <td>Volcán Barva</td>\n",
       "      <td>CT-VB-1-1</td>\n",
       "      <td>10.42231</td>\n",
       "      <td>-84.0212</td>\n",
       "      <td>Pecari</td>\n",
       "      <td>Annual</td>\n",
       "      <td>TEAM</td>\n",
       "      <td>Volcán Barva</td>\n",
       "      <td>CT-VB-1-1</td>\n",
       "      <td>2007-01</td>\n",
       "      <td>3.333333</td>\n",
       "    </tr>\n",
       "    <tr>\n",
       "      <th>3</th>\n",
       "      <td>2007-01</td>\n",
       "      <td>Volcán Barva</td>\n",
       "      <td>CT-VB-1-1</td>\n",
       "      <td>major</td>\n",
       "      <td>1.0</td>\n",
       "      <td>2007</td>\n",
       "      <td>Volcán Barva</td>\n",
       "      <td>CT-VB-1-1</td>\n",
       "      <td>10.42231</td>\n",
       "      <td>-84.0212</td>\n",
       "      <td>Pecari</td>\n",
       "      <td>Annual</td>\n",
       "      <td>TEAM</td>\n",
       "      <td>Volcán Barva</td>\n",
       "      <td>CT-VB-1-1</td>\n",
       "      <td>2007-01</td>\n",
       "      <td>3.333333</td>\n",
       "    </tr>\n",
       "    <tr>\n",
       "      <th>4</th>\n",
       "      <td>2007-01</td>\n",
       "      <td>Volcán Barva</td>\n",
       "      <td>CT-VB-1-1</td>\n",
       "      <td>major</td>\n",
       "      <td>1.0</td>\n",
       "      <td>2007</td>\n",
       "      <td>Volcán Barva</td>\n",
       "      <td>CT-VB-1-1</td>\n",
       "      <td>10.42231</td>\n",
       "      <td>-84.0212</td>\n",
       "      <td>Pecari</td>\n",
       "      <td>Annual</td>\n",
       "      <td>TEAM</td>\n",
       "      <td>Volcán Barva</td>\n",
       "      <td>CT-VB-1-1</td>\n",
       "      <td>2007-01</td>\n",
       "      <td>3.333333</td>\n",
       "    </tr>\n",
       "  </tbody>\n",
       "</table>\n",
       "</div>"
      ],
      "text/plain": [
       "  Sampling Period     Site Name Sampling Unit Name Species  Number of Animals  \\\n",
       "0         2007-01  Volcán Barva          CT-VB-1-1   major                1.0   \n",
       "1         2007-01  Volcán Barva          CT-VB-1-1   major                1.0   \n",
       "2         2007-01  Volcán Barva          CT-VB-1-1   major                1.0   \n",
       "3         2007-01  Volcán Barva          CT-VB-1-1   major                1.0   \n",
       "4         2007-01  Volcán Barva          CT-VB-1-1   major                1.0   \n",
       "\n",
       "   Year  Project.ID_x Deployment.Location.ID_x  Latitude.Resolution  \\\n",
       "0  2007  Volcán Barva                CT-VB-1-1             10.42231   \n",
       "1  2007  Volcán Barva                CT-VB-1-1             10.42231   \n",
       "2  2007  Volcán Barva                CT-VB-1-1             10.42231   \n",
       "3  2007  Volcán Barva                CT-VB-1-1             10.42231   \n",
       "4  2007  Volcán Barva                CT-VB-1-1             10.42231   \n",
       "\n",
       "   Longitude.Resolution   Genus Sampling Type Data Source  Project.ID_y  \\\n",
       "0              -84.0212     NaN        Annual        TEAM  Volcán Barva   \n",
       "1              -84.0212  Pecari        Annual        TEAM  Volcán Barva   \n",
       "2              -84.0212  Pecari        Annual        TEAM  Volcán Barva   \n",
       "3              -84.0212  Pecari        Annual        TEAM  Volcán Barva   \n",
       "4              -84.0212  Pecari        Annual        TEAM  Volcán Barva   \n",
       "\n",
       "  Deployment.Location.ID_y Sampling.Period  Rate Of Detection  \n",
       "0                CT-VB-1-1         2007-01           3.333333  \n",
       "1                CT-VB-1-1         2007-01           3.333333  \n",
       "2                CT-VB-1-1         2007-01           3.333333  \n",
       "3                CT-VB-1-1         2007-01           3.333333  \n",
       "4                CT-VB-1-1         2007-01           3.333333  "
      ]
     },
     "execution_count": 12,
     "metadata": {},
     "output_type": "execute_result"
    }
   ],
   "source": [
    "team.head()"
   ]
  },
  {
   "cell_type": "code",
   "execution_count": 30,
   "metadata": {
    "collapsed": false
   },
   "outputs": [],
   "source": [
    "new_team = team\n",
    "del new_team['Project.ID_y']\n",
    "del new_team['Deployment.Location.ID_y']\n",
    "del new_team['Sampling.Period']"
   ]
  },
  {
   "cell_type": "code",
   "execution_count": 15,
   "metadata": {
    "collapsed": false
   },
   "outputs": [],
   "source": [
    "old_cols=new_team.columns.tolist()"
   ]
  },
  {
   "cell_type": "code",
   "execution_count": 32,
   "metadata": {
    "collapsed": true
   },
   "outputs": [],
   "source": [
    "import re\n",
    "def cols_replace(data):\n",
    "    return re.sub(r'[\\_.x]',' ',data).strip()"
   ]
  },
  {
   "cell_type": "code",
   "execution_count": 33,
   "metadata": {
    "collapsed": false
   },
   "outputs": [],
   "source": [
    "new_cols = map(cols_replace,old_cols)"
   ]
  },
  {
   "cell_type": "code",
   "execution_count": 34,
   "metadata": {
    "collapsed": false
   },
   "outputs": [
    {
     "data": {
      "text/plain": [
       "['Sampling Period',\n",
       " 'Site Name',\n",
       " 'Sampling Unit Name',\n",
       " 'Species',\n",
       " 'Number of Animals',\n",
       " 'Year',\n",
       " 'Project ID',\n",
       " 'Deployment Location ID',\n",
       " 'Latitude Resolution',\n",
       " 'Longitude Resolution',\n",
       " 'Genus',\n",
       " 'Sampling Type',\n",
       " 'Data Source',\n",
       " 'Rate Of Detection']"
      ]
     },
     "execution_count": 34,
     "metadata": {},
     "output_type": "execute_result"
    }
   ],
   "source": [
    "new_cols"
   ]
  },
  {
   "cell_type": "code",
   "execution_count": 35,
   "metadata": {
    "collapsed": true
   },
   "outputs": [],
   "source": [
    "new_team.columns = new_cols"
   ]
  },
  {
   "cell_type": "code",
   "execution_count": 36,
   "metadata": {
    "collapsed": false
   },
   "outputs": [
    {
     "data": {
      "text/html": [
       "<div>\n",
       "<table border=\"1\" class=\"dataframe\">\n",
       "  <thead>\n",
       "    <tr style=\"text-align: right;\">\n",
       "      <th></th>\n",
       "      <th>Sampling Period</th>\n",
       "      <th>Site Name</th>\n",
       "      <th>Sampling Unit Name</th>\n",
       "      <th>Species</th>\n",
       "      <th>Number of Animals</th>\n",
       "      <th>Year</th>\n",
       "      <th>Project ID</th>\n",
       "      <th>Deployment Location ID</th>\n",
       "      <th>Latitude Resolution</th>\n",
       "      <th>Longitude Resolution</th>\n",
       "      <th>Genus</th>\n",
       "      <th>Sampling Type</th>\n",
       "      <th>Data Source</th>\n",
       "      <th>Rate Of Detection</th>\n",
       "    </tr>\n",
       "  </thead>\n",
       "  <tbody>\n",
       "    <tr>\n",
       "      <th>0</th>\n",
       "      <td>2007-01</td>\n",
       "      <td>Volcán Barva</td>\n",
       "      <td>CT-VB-1-1</td>\n",
       "      <td>major</td>\n",
       "      <td>1.0</td>\n",
       "      <td>2007</td>\n",
       "      <td>Volcán Barva</td>\n",
       "      <td>CT-VB-1-1</td>\n",
       "      <td>10.42231</td>\n",
       "      <td>-84.0212</td>\n",
       "      <td>NaN</td>\n",
       "      <td>Annual</td>\n",
       "      <td>TEAM</td>\n",
       "      <td>3.333333</td>\n",
       "    </tr>\n",
       "    <tr>\n",
       "      <th>1</th>\n",
       "      <td>2007-01</td>\n",
       "      <td>Volcán Barva</td>\n",
       "      <td>CT-VB-1-1</td>\n",
       "      <td>major</td>\n",
       "      <td>1.0</td>\n",
       "      <td>2007</td>\n",
       "      <td>Volcán Barva</td>\n",
       "      <td>CT-VB-1-1</td>\n",
       "      <td>10.42231</td>\n",
       "      <td>-84.0212</td>\n",
       "      <td>Pecari</td>\n",
       "      <td>Annual</td>\n",
       "      <td>TEAM</td>\n",
       "      <td>3.333333</td>\n",
       "    </tr>\n",
       "    <tr>\n",
       "      <th>2</th>\n",
       "      <td>2007-01</td>\n",
       "      <td>Volcán Barva</td>\n",
       "      <td>CT-VB-1-1</td>\n",
       "      <td>major</td>\n",
       "      <td>1.0</td>\n",
       "      <td>2007</td>\n",
       "      <td>Volcán Barva</td>\n",
       "      <td>CT-VB-1-1</td>\n",
       "      <td>10.42231</td>\n",
       "      <td>-84.0212</td>\n",
       "      <td>Pecari</td>\n",
       "      <td>Annual</td>\n",
       "      <td>TEAM</td>\n",
       "      <td>3.333333</td>\n",
       "    </tr>\n",
       "    <tr>\n",
       "      <th>3</th>\n",
       "      <td>2007-01</td>\n",
       "      <td>Volcán Barva</td>\n",
       "      <td>CT-VB-1-1</td>\n",
       "      <td>major</td>\n",
       "      <td>1.0</td>\n",
       "      <td>2007</td>\n",
       "      <td>Volcán Barva</td>\n",
       "      <td>CT-VB-1-1</td>\n",
       "      <td>10.42231</td>\n",
       "      <td>-84.0212</td>\n",
       "      <td>Pecari</td>\n",
       "      <td>Annual</td>\n",
       "      <td>TEAM</td>\n",
       "      <td>3.333333</td>\n",
       "    </tr>\n",
       "    <tr>\n",
       "      <th>4</th>\n",
       "      <td>2007-01</td>\n",
       "      <td>Volcán Barva</td>\n",
       "      <td>CT-VB-1-1</td>\n",
       "      <td>major</td>\n",
       "      <td>1.0</td>\n",
       "      <td>2007</td>\n",
       "      <td>Volcán Barva</td>\n",
       "      <td>CT-VB-1-1</td>\n",
       "      <td>10.42231</td>\n",
       "      <td>-84.0212</td>\n",
       "      <td>Pecari</td>\n",
       "      <td>Annual</td>\n",
       "      <td>TEAM</td>\n",
       "      <td>3.333333</td>\n",
       "    </tr>\n",
       "  </tbody>\n",
       "</table>\n",
       "</div>"
      ],
      "text/plain": [
       "  Sampling Period     Site Name Sampling Unit Name Species  Number of Animals  \\\n",
       "0         2007-01  Volcán Barva          CT-VB-1-1   major                1.0   \n",
       "1         2007-01  Volcán Barva          CT-VB-1-1   major                1.0   \n",
       "2         2007-01  Volcán Barva          CT-VB-1-1   major                1.0   \n",
       "3         2007-01  Volcán Barva          CT-VB-1-1   major                1.0   \n",
       "4         2007-01  Volcán Barva          CT-VB-1-1   major                1.0   \n",
       "\n",
       "   Year    Project ID Deployment Location ID  Latitude Resolution  \\\n",
       "0  2007  Volcán Barva              CT-VB-1-1             10.42231   \n",
       "1  2007  Volcán Barva              CT-VB-1-1             10.42231   \n",
       "2  2007  Volcán Barva              CT-VB-1-1             10.42231   \n",
       "3  2007  Volcán Barva              CT-VB-1-1             10.42231   \n",
       "4  2007  Volcán Barva              CT-VB-1-1             10.42231   \n",
       "\n",
       "   Longitude Resolution   Genus Sampling Type Data Source  Rate Of Detection  \n",
       "0              -84.0212     NaN        Annual        TEAM           3.333333  \n",
       "1              -84.0212  Pecari        Annual        TEAM           3.333333  \n",
       "2              -84.0212  Pecari        Annual        TEAM           3.333333  \n",
       "3              -84.0212  Pecari        Annual        TEAM           3.333333  \n",
       "4              -84.0212  Pecari        Annual        TEAM           3.333333  "
      ]
     },
     "execution_count": 36,
     "metadata": {},
     "output_type": "execute_result"
    }
   ],
   "source": [
    "new_team.head()"
   ]
  },
  {
   "cell_type": "code",
   "execution_count": 37,
   "metadata": {
    "collapsed": false
   },
   "outputs": [],
   "source": [
    "new_team.to_csv('rate_of_detection_v2.csv', index=False)"
   ]
  },
  {
   "cell_type": "code",
   "execution_count": null,
   "metadata": {
    "collapsed": true
   },
   "outputs": [],
   "source": []
  }
 ],
 "metadata": {
  "kernelspec": {
   "display_name": "Python 2",
   "language": "python",
   "name": "python2"
  },
  "language_info": {
   "codemirror_mode": {
    "name": "ipython",
    "version": 2
   },
   "file_extension": ".py",
   "mimetype": "text/x-python",
   "name": "python",
   "nbconvert_exporter": "python",
   "pygments_lexer": "ipython2",
   "version": "2.7.10"
  }
 },
 "nbformat": 4,
 "nbformat_minor": 0
}
