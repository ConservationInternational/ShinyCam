{
 "cells": [
  {
   "cell_type": "code",
   "execution_count": 1,
   "metadata": {
    "collapsed": false
   },
   "outputs": [
    {
     "data": {
      "text/html": [
       "'/Users/simonaaksman/Desktop/Git/datadive_201608_ci/notebooks'"
      ],
      "text/latex": [
       "'/Users/simonaaksman/Desktop/Git/datadive\\_201608\\_ci/notebooks'"
      ],
      "text/markdown": [
       "'/Users/simonaaksman/Desktop/Git/datadive_201608_ci/notebooks'"
      ],
      "text/plain": [
       "[1] \"/Users/simonaaksman/Desktop/Git/datadive_201608_ci/notebooks\""
      ]
     },
     "metadata": {},
     "output_type": "display_data"
    }
   ],
   "source": [
    "getwd()"
   ]
  },
  {
   "cell_type": "code",
   "execution_count": null,
   "metadata": {
    "collapsed": true
   },
   "outputs": [],
   "source": [
    "chdir('')"
   ]
  }
 ],
 "metadata": {
  "kernelspec": {
   "display_name": "R",
   "language": "R",
   "name": "ir"
  },
  "language_info": {
   "codemirror_mode": "r",
   "file_extension": ".r",
   "mimetype": "text/x-r-source",
   "name": "R",
   "pygments_lexer": "r",
   "version": "3.2.3"
  }
 },
 "nbformat": 4,
 "nbformat_minor": 0
}
