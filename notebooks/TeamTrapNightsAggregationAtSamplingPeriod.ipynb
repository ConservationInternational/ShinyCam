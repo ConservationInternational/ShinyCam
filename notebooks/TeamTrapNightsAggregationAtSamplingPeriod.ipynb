{
 "cells": [
  {
   "cell_type": "code",
   "execution_count": 1,
   "metadata": {
    "collapsed": false
   },
   "outputs": [],
   "source": [
    "import pandas as pd, numpy as np, datetime, math, calendar"
   ]
  },
  {
   "cell_type": "code",
   "execution_count": 2,
   "metadata": {
    "collapsed": false
   },
   "outputs": [
    {
     "name": "stderr",
     "output_type": "stream",
     "text": [
      "/Users/terencekwt/Code/datadive_201608_ci/env/lib/python2.7/site-packages/IPython/core/interactiveshell.py:2717: DtypeWarning: Columns (11,20,21,22,27,28,30,31,32,33,35,38) have mixed types. Specify dtype option on import or set low_memory=False.\n",
      "  interactivity=interactivity, compiler=compiler, result=result)\n"
     ]
    }
   ],
   "source": [
    "team = pd.read_csv('../data/StandardizedData/Terrestrial_Vertebrate_Cols_Edited.csv')"
   ]
  },
  {
   "cell_type": "code",
   "execution_count": 4,
   "metadata": {
    "collapsed": false
   },
   "outputs": [
    {
     "data": {
      "text/plain": [
       "Index([u'Unnamed: 0', u'ID', u'Project.ID', u'Deployment.Location.ID',\n",
       "       u'Latitude.Resolution', u'Longitude.Resolution', u'Sampling.Period',\n",
       "       u'Photo.Type', u'Photo.Date', u'Photo.Time', u'Image.ID',\n",
       "       u'Photo.Notes', u'Location', u'Class', u'Order', u'Family', u'Genus',\n",
       "       u'Species', u'Count', u'Photo.Type.Identified.by',\n",
       "       u'Camera.Serial.Number', u'Memory.Card.Serial.Number', u'Camera.Notes',\n",
       "       u'Camera.Deployment.Begin.Date', u'Camera.Deployment.End.Date',\n",
       "       u'Person.setting.up.the.Camera', u'Person.picking.up.the.Camera',\n",
       "       u'Camera.Make', u'Camera.Model', u'Flash', u'Exposure.Time',\n",
       "       u'Sequence.Info', u'Triplet.Number', u'Moon.Phase', u'Temperature',\n",
       "       u'Camera.Firmware.Version', u'Protocol.Version',\n",
       "       u'Data.Set.Creator.Institutions', u'Data.Set.Creator.Scientist',\n",
       "       u'Data.Set.Contact', u'Data.Level'],\n",
       "      dtype='object')"
      ]
     },
     "execution_count": 4,
     "metadata": {},
     "output_type": "execute_result"
    }
   ],
   "source": [
    "#columns of the marin dataset\n",
    "team.columns"
   ]
  },
  {
   "cell_type": "code",
   "execution_count": 5,
   "metadata": {
    "collapsed": false
   },
   "outputs": [
    {
     "data": {
      "text/plain": [
       "1058"
      ]
     },
     "execution_count": 5,
     "metadata": {},
     "output_type": "execute_result"
    }
   ],
   "source": [
    "# Number of locations \n",
    "\n",
    "len(set(team['Deployment.Location.ID']))"
   ]
  },
  {
   "cell_type": "code",
   "execution_count": 25,
   "metadata": {
    "collapsed": false
   },
   "outputs": [
    {
     "data": {
      "text/plain": [
       "17"
      ]
     },
     "execution_count": 25,
     "metadata": {},
     "output_type": "execute_result"
    }
   ],
   "source": [
    "# Number of projects\n",
    "\n",
    "len(set(team['Project.ID']))"
   ]
  },
  {
   "cell_type": "code",
   "execution_count": 27,
   "metadata": {
    "collapsed": false
   },
   "outputs": [
    {
     "data": {
      "text/plain": [
       "<pandas.core.groupby.DataFrameGroupBy object at 0x10f174a10>"
      ]
     },
     "execution_count": 27,
     "metadata": {},
     "output_type": "execute_result"
    }
   ],
   "source": [
    "# SELECT the projections that we actually need\n",
    "team_simple = team[['Project.ID',\n",
    "'Deployment.Location.ID',\n",
    "'Camera.Deployment.Begin.Date',\n",
    "'Camera.Deployment.End.Date',\n",
    "'Sampling.Period']]\n",
    "\n",
    "\n",
    "team_simple_per_location = team_simple.groupby(['Project.ID', 'Deployment.Location.ID', 'Camera.Deployment.Begin.Date', 'Camera.Deployment.End.Date','Sampling.Period'])\n",
    "team_simple_per_location"
   ]
  },
  {
   "cell_type": "code",
   "execution_count": 28,
   "metadata": {
    "collapsed": false
   },
   "outputs": [],
   "source": [
    "team_simple_per_location = team_simple_per_location.count().reset_index()"
   ]
  },
  {
   "cell_type": "code",
   "execution_count": 29,
   "metadata": {
    "collapsed": false
   },
   "outputs": [],
   "source": [
    "team_simple_per_location['Camera.Deployment.Begin.Date_datetime'] = pd.to_datetime(team_simple_per_location['Camera.Deployment.Begin.Date'])\n",
    "team_simple_per_location['Camera.Deployment.End.Date_datetime'] = pd.to_datetime(team_simple_per_location['Camera.Deployment.End.Date'])\n",
    "\n",
    "team_simple_per_location['trapnights'] = (team_simple_per_location['Camera.Deployment.End.Date_datetime'] \n",
    "                                          - \n",
    "        team_simple_per_location['Camera.Deployment.Begin.Date_datetime']).astype(pd.Timedelta).apply(lambda l: max(1, l.days))"
   ]
  },
  {
   "cell_type": "code",
   "execution_count": 30,
   "metadata": {
    "collapsed": false
   },
   "outputs": [
    {
     "data": {
      "text/html": [
       "<div>\n",
       "<table border=\"1\" class=\"dataframe\">\n",
       "  <thead>\n",
       "    <tr style=\"text-align: right;\">\n",
       "      <th></th>\n",
       "      <th>Project.ID</th>\n",
       "      <th>Deployment.Location.ID</th>\n",
       "      <th>Camera.Deployment.Begin.Date</th>\n",
       "      <th>Camera.Deployment.End.Date</th>\n",
       "      <th>Sampling.Period</th>\n",
       "      <th>Camera.Deployment.Begin.Date_datetime</th>\n",
       "      <th>Camera.Deployment.End.Date_datetime</th>\n",
       "      <th>trapnights</th>\n",
       "    </tr>\n",
       "  </thead>\n",
       "  <tbody>\n",
       "    <tr>\n",
       "      <th>0</th>\n",
       "      <td>Barro Colorado Nature Monument - Soberania Nat...</td>\n",
       "      <td>CT-BCI-1-01</td>\n",
       "      <td>2011-01-15 14:08:46</td>\n",
       "      <td>2011-02-21 12:17:23</td>\n",
       "      <td>2010.01</td>\n",
       "      <td>2011-01-15 14:08:46</td>\n",
       "      <td>2011-02-21 12:17:23</td>\n",
       "      <td>36</td>\n",
       "    </tr>\n",
       "    <tr>\n",
       "      <th>1</th>\n",
       "      <td>Barro Colorado Nature Monument - Soberania Nat...</td>\n",
       "      <td>CT-BCI-1-01</td>\n",
       "      <td>2011-12-16 10:55:02</td>\n",
       "      <td>2012-01-18 11:12:03</td>\n",
       "      <td>2011.01</td>\n",
       "      <td>2011-12-16 10:55:02</td>\n",
       "      <td>2012-01-18 11:12:03</td>\n",
       "      <td>33</td>\n",
       "    </tr>\n",
       "    <tr>\n",
       "      <th>2</th>\n",
       "      <td>Barro Colorado Nature Monument - Soberania Nat...</td>\n",
       "      <td>CT-BCI-1-01</td>\n",
       "      <td>2012-12-21 13:49:05</td>\n",
       "      <td>2013-01-20 15:08:01</td>\n",
       "      <td>2012.01</td>\n",
       "      <td>2012-12-21 13:49:05</td>\n",
       "      <td>2013-01-20 15:08:01</td>\n",
       "      <td>30</td>\n",
       "    </tr>\n",
       "    <tr>\n",
       "      <th>3</th>\n",
       "      <td>Barro Colorado Nature Monument - Soberania Nat...</td>\n",
       "      <td>CT-BCI-1-01</td>\n",
       "      <td>2013-12-21 10:46:02</td>\n",
       "      <td>2014-01-20 11:27:01</td>\n",
       "      <td>2013.01</td>\n",
       "      <td>2013-12-21 10:46:02</td>\n",
       "      <td>2014-01-20 11:27:01</td>\n",
       "      <td>30</td>\n",
       "    </tr>\n",
       "    <tr>\n",
       "      <th>4</th>\n",
       "      <td>Barro Colorado Nature Monument - Soberania Nat...</td>\n",
       "      <td>CT-BCI-1-01</td>\n",
       "      <td>2014-12-15 00:00:00</td>\n",
       "      <td>2015-01-21 12:00:00</td>\n",
       "      <td>2014.01</td>\n",
       "      <td>2014-12-15 00:00:00</td>\n",
       "      <td>2015-01-21 12:00:00</td>\n",
       "      <td>37</td>\n",
       "    </tr>\n",
       "  </tbody>\n",
       "</table>\n",
       "</div>"
      ],
      "text/plain": [
       "                                          Project.ID Deployment.Location.ID  \\\n",
       "0  Barro Colorado Nature Monument - Soberania Nat...            CT-BCI-1-01   \n",
       "1  Barro Colorado Nature Monument - Soberania Nat...            CT-BCI-1-01   \n",
       "2  Barro Colorado Nature Monument - Soberania Nat...            CT-BCI-1-01   \n",
       "3  Barro Colorado Nature Monument - Soberania Nat...            CT-BCI-1-01   \n",
       "4  Barro Colorado Nature Monument - Soberania Nat...            CT-BCI-1-01   \n",
       "\n",
       "  Camera.Deployment.Begin.Date Camera.Deployment.End.Date  Sampling.Period  \\\n",
       "0          2011-01-15 14:08:46        2011-02-21 12:17:23          2010.01   \n",
       "1          2011-12-16 10:55:02        2012-01-18 11:12:03          2011.01   \n",
       "2          2012-12-21 13:49:05        2013-01-20 15:08:01          2012.01   \n",
       "3          2013-12-21 10:46:02        2014-01-20 11:27:01          2013.01   \n",
       "4          2014-12-15 00:00:00        2015-01-21 12:00:00          2014.01   \n",
       "\n",
       "  Camera.Deployment.Begin.Date_datetime Camera.Deployment.End.Date_datetime  \\\n",
       "0                   2011-01-15 14:08:46                 2011-02-21 12:17:23   \n",
       "1                   2011-12-16 10:55:02                 2012-01-18 11:12:03   \n",
       "2                   2012-12-21 13:49:05                 2013-01-20 15:08:01   \n",
       "3                   2013-12-21 10:46:02                 2014-01-20 11:27:01   \n",
       "4                   2014-12-15 00:00:00                 2015-01-21 12:00:00   \n",
       "\n",
       "   trapnights  \n",
       "0          36  \n",
       "1          33  \n",
       "2          30  \n",
       "3          30  \n",
       "4          37  "
      ]
     },
     "execution_count": 30,
     "metadata": {},
     "output_type": "execute_result"
    }
   ],
   "source": [
    "team_simple_per_location.head()"
   ]
  },
  {
   "cell_type": "code",
   "execution_count": 32,
   "metadata": {
    "collapsed": true
   },
   "outputs": [],
   "source": [
    "team_simple_per_location.to_csv('team_dataset_trapnights.csv')"
   ]
  },
  {
   "cell_type": "code",
   "execution_count": null,
   "metadata": {
    "collapsed": true
   },
   "outputs": [],
   "source": []
  }
 ],
 "metadata": {
  "kernelspec": {
   "display_name": "Python 2",
   "language": "python",
   "name": "python2"
  },
  "language_info": {
   "codemirror_mode": {
    "name": "ipython",
    "version": 2
   },
   "file_extension": ".py",
   "mimetype": "text/x-python",
   "name": "python",
   "nbconvert_exporter": "python",
   "pygments_lexer": "ipython2",
   "version": "2.7.10"
  }
 },
 "nbformat": 4,
 "nbformat_minor": 0
}
