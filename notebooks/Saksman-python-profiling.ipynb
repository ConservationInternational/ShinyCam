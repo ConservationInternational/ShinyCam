{
 "cells": [
  {
   "cell_type": "code",
   "execution_count": 261,
   "metadata": {
    "collapsed": true
   },
   "outputs": [],
   "source": [
    "import pandas as pd, os, numpy as np, datetime, math"
   ]
  },
  {
   "cell_type": "code",
   "execution_count": 45,
   "metadata": {
    "collapsed": false
   },
   "outputs": [],
   "source": [
    "os.chdir('/Users/simonaaksman/Desktop/Git/datadive_201608_ci')\n",
    "data = './data/processed/'\n",
    "os.chdir(data)"
   ]
  },
  {
   "cell_type": "code",
   "execution_count": 144,
   "metadata": {
    "collapsed": false
   },
   "outputs": [],
   "source": [
    "marin = pd.read_csv('Marin_Merged.csv')\n",
    "team = pd.read_csv('Terrestrial_Vertebrate_Cols_Edited.csv')"
   ]
  },
  {
   "cell_type": "code",
   "execution_count": 56,
   "metadata": {
    "collapsed": false
   },
   "outputs": [
    {
     "data": {
      "text/plain": [
       "Index([u'Unnamed: 0', u'Project.ID', u'Deployment.ID', u'Image.ID',\n",
       "       u'Location', u'Photo.Type', u'Photo.Type.Identified.by',\n",
       "       u'Genus.Species', u'Uncertainty', u'IUCN.Identification.Number',\n",
       "       u'Date_Time.Captured', u'Age', u'Sex', u'Individual.ID', u'Count',\n",
       "       u'Animal.recognizable..Y.N.', u'individual.Animal.notes',\n",
       "       u'Project.ID.x', u'Event', u'Array.Name', u'Deployment.Location.ID',\n",
       "       u'Longitude.Resolution', u'Latitude.Resolution',\n",
       "       u'Camera.Deployment.Begin.Date', u'Camera.Deployment.End.Date',\n",
       "       u'Bait.Type', u'Bait.Description', u'Feature.Type',\n",
       "       u'Feature.Type.methodology', u'Camera.ID', u'Quiet.Period.Setting',\n",
       "       u'Restriction.on.access', u'Camera.Failure.Details', u'Project.ID.y',\n",
       "       u'Make', u'Model', u'Serial.Number', u'Year.Purchased', u'Genus',\n",
       "       u'Species'],\n",
       "      dtype='object')"
      ]
     },
     "execution_count": 56,
     "metadata": {},
     "output_type": "execute_result"
    }
   ],
   "source": [
    "marin.columns"
   ]
  },
  {
   "cell_type": "code",
   "execution_count": 55,
   "metadata": {
    "collapsed": false
   },
   "outputs": [
    {
     "data": {
      "text/plain": [
       "Index([u'Unnamed: 0', u'ID', u'Project.ID', u'Deployment.Location.ID',\n",
       "       u'Latitude.Resolution', u'Longitude.Resolution', u'Sampling.Period',\n",
       "       u'Photo.Type', u'Photo.Date', u'Photo.Time', u'Image.ID',\n",
       "       u'Photo.Notes', u'Location', u'Class', u'Order', u'Family', u'Genus',\n",
       "       u'Species', u'Count', u'Photo.Type.Identified.by',\n",
       "       u'Camera.Serial.Number', u'Memory.Card.Serial.Number', u'Camera.Notes',\n",
       "       u'Camera.Deployment.Begin.Date', u'Camera.Deployment.End.Date',\n",
       "       u'Person.setting.up.the.Camera', u'Person.picking.up.the.Camera',\n",
       "       u'Camera.Make', u'Camera.Model', u'Flash', u'Exposure.Time',\n",
       "       u'Sequence.Info', u'Triplet.Number', u'Moon.Phase', u'Temperature',\n",
       "       u'Camera.Firmware.Version', u'Protocol.Version',\n",
       "       u'Data.Set.Creator.Institutions', u'Data.Set.Creator.Scientist',\n",
       "       u'Data.Set.Contact', u'Data.Level'],\n",
       "      dtype='object')"
      ]
     },
     "execution_count": 55,
     "metadata": {},
     "output_type": "execute_result"
    }
   ],
   "source": [
    "team.columns"
   ]
  },
  {
   "cell_type": "code",
   "execution_count": 91,
   "metadata": {
    "collapsed": false
   },
   "outputs": [
    {
     "data": {
      "text/plain": [
       "1058"
      ]
     },
     "execution_count": 91,
     "metadata": {},
     "output_type": "execute_result"
    }
   ],
   "source": [
    "# Number of locations \n",
    "\n",
    "len(set(team['Deployment.Location.ID']))"
   ]
  },
  {
   "cell_type": "code",
   "execution_count": 101,
   "metadata": {
    "collapsed": false
   },
   "outputs": [
    {
     "data": {
      "text/plain": [
       "17"
      ]
     },
     "execution_count": 101,
     "metadata": {},
     "output_type": "execute_result"
    }
   ],
   "source": [
    "# Number of projects\n",
    "\n",
    "len(set(team['Project.ID']))"
   ]
  },
  {
   "cell_type": "code",
   "execution_count": 104,
   "metadata": {
    "collapsed": false
   },
   "outputs": [
    {
     "data": {
      "text/plain": [
       "2286513"
      ]
     },
     "execution_count": 104,
     "metadata": {},
     "output_type": "execute_result"
    }
   ],
   "source": [
    "# Number of unique identifiers\n",
    "\n",
    "len(set(team['ID']))"
   ]
  },
  {
   "cell_type": "markdown",
   "metadata": {},
   "source": [
    "UI Layer Columns:\n",
    "    \n",
    "Data Source,Project ID,Deployment Location ID,Latitude Resolution,\n",
    "Longitude Resolution,Sampling Type,Sampling Period,Year,Genus,Species,Rate Of Detection"
   ]
  },
  {
   "cell_type": "code",
   "execution_count": 286,
   "metadata": {
    "collapsed": false
   },
   "outputs": [],
   "source": [
    "team_simple = team[['Project.ID',\n",
    "'Location',\n",
    "'Latitude.Resolution',\n",
    "'Longitude.Resolution',\n",
    "'Sampling.Period',\n",
    "'Deployment.Location.ID',\n",
    "'Camera.Deployment.Begin.Date',\n",
    "'Camera.Deployment.End.Date',\n",
    "'Camera.Serial.Number',\n",
    "'Genus', 'Species']]\n",
    "\n",
    "\n",
    "team_simple_per_location = team_simple.groupby(['Project.ID', \n",
    "                                                'Deployment.Location.ID', \n",
    "                      'Camera.Deployment.Begin.Date',\n",
    "                      'Camera.Deployment.End.Date'])"
   ]
  },
  {
   "cell_type": "code",
   "execution_count": 287,
   "metadata": {
    "collapsed": false
   },
   "outputs": [
    {
     "data": {
      "text/plain": [
       "2013.01    403933\n",
       "2011.01    372250\n",
       "2015.01    360680\n",
       "2012.01    358518\n",
       "2014.01    358011\n",
       "2010.01    222527\n",
       "2009.01    123783\n",
       "2016.01     55029\n",
       "2008.01     19124\n",
       "2013.02     11994\n",
       "2007.01      5869\n",
       "dtype: int64"
      ]
     },
     "execution_count": 287,
     "metadata": {},
     "output_type": "execute_result"
    }
   ],
   "source": [
    "team_simple['Sampling.Period'].value_counts()"
   ]
  },
  {
   "cell_type": "code",
   "execution_count": 288,
   "metadata": {
    "collapsed": false
   },
   "outputs": [],
   "source": [
    "assert(len(team_simple_per_location['Project.ID']) == 5328)"
   ]
  },
  {
   "cell_type": "code",
   "execution_count": 289,
   "metadata": {
    "collapsed": false
   },
   "outputs": [],
   "source": [
    "team_simple_per_location = team_simple_per_location.count().reset_index()"
   ]
  },
  {
   "cell_type": "code",
   "execution_count": 290,
   "metadata": {
    "collapsed": false
   },
   "outputs": [],
   "source": [
    "team_simple_per_location['Camera.Deployment.Begin.Date_datetime'] = team_simple_per_location['Camera.Deployment.Begin.Date'].apply(lambda x: \n",
    "                                                                    datetime.datetime.strptime(x, '%Y-%m-%d %H:%M:%S'))\n",
    "\n",
    "team_simple_per_location['Camera.Deployment.End.Date_datetime'] = team_simple_per_location['Camera.Deployment.End.Date'].apply(lambda x: \n",
    "                                                                    datetime.datetime.strptime(x, '%Y-%m-%d %H:%M:%S'))"
   ]
  },
  {
   "cell_type": "code",
   "execution_count": 291,
   "metadata": {
    "collapsed": false
   },
   "outputs": [
    {
     "data": {
      "text/html": [
       "<div>\n",
       "<table border=\"1\" class=\"dataframe\">\n",
       "  <thead>\n",
       "    <tr style=\"text-align: right;\">\n",
       "      <th></th>\n",
       "      <th>Project.ID</th>\n",
       "      <th>Deployment.Location.ID</th>\n",
       "      <th>Camera.Deployment.Begin.Date</th>\n",
       "      <th>Camera.Deployment.End.Date</th>\n",
       "      <th>Location</th>\n",
       "      <th>Latitude.Resolution</th>\n",
       "      <th>Longitude.Resolution</th>\n",
       "      <th>Sampling.Period</th>\n",
       "      <th>Camera.Serial.Number</th>\n",
       "      <th>Genus</th>\n",
       "      <th>Species</th>\n",
       "      <th>Camera.Deployment.Begin.Date_datetime</th>\n",
       "      <th>Camera.Deployment.End.Date_datetime</th>\n",
       "    </tr>\n",
       "  </thead>\n",
       "  <tbody>\n",
       "    <tr>\n",
       "      <th>0</th>\n",
       "      <td>Barro Colorado Nature Monument - Soberania Nat...</td>\n",
       "      <td>CT-BCI-1-01</td>\n",
       "      <td>2011-01-15 14:08:46</td>\n",
       "      <td>2011-02-21 12:17:23</td>\n",
       "      <td>250</td>\n",
       "      <td>251</td>\n",
       "      <td>251</td>\n",
       "      <td>251</td>\n",
       "      <td>251</td>\n",
       "      <td>250</td>\n",
       "      <td>250</td>\n",
       "      <td>2011-01-15 14:08:46</td>\n",
       "      <td>2011-02-21 12:17:23</td>\n",
       "    </tr>\n",
       "    <tr>\n",
       "      <th>1</th>\n",
       "      <td>Barro Colorado Nature Monument - Soberania Nat...</td>\n",
       "      <td>CT-BCI-1-01</td>\n",
       "      <td>2011-12-16 10:55:02</td>\n",
       "      <td>2012-01-18 11:12:03</td>\n",
       "      <td>310</td>\n",
       "      <td>311</td>\n",
       "      <td>311</td>\n",
       "      <td>311</td>\n",
       "      <td>311</td>\n",
       "      <td>280</td>\n",
       "      <td>280</td>\n",
       "      <td>2011-12-16 10:55:02</td>\n",
       "      <td>2012-01-18 11:12:03</td>\n",
       "    </tr>\n",
       "    <tr>\n",
       "      <th>2</th>\n",
       "      <td>Barro Colorado Nature Monument - Soberania Nat...</td>\n",
       "      <td>CT-BCI-1-01</td>\n",
       "      <td>2012-12-21 13:49:05</td>\n",
       "      <td>2013-01-20 15:08:01</td>\n",
       "      <td>580</td>\n",
       "      <td>581</td>\n",
       "      <td>581</td>\n",
       "      <td>581</td>\n",
       "      <td>581</td>\n",
       "      <td>580</td>\n",
       "      <td>580</td>\n",
       "      <td>2012-12-21 13:49:05</td>\n",
       "      <td>2013-01-20 15:08:01</td>\n",
       "    </tr>\n",
       "    <tr>\n",
       "      <th>3</th>\n",
       "      <td>Barro Colorado Nature Monument - Soberania Nat...</td>\n",
       "      <td>CT-BCI-1-01</td>\n",
       "      <td>2013-12-21 10:46:02</td>\n",
       "      <td>2014-01-20 11:27:01</td>\n",
       "      <td>520</td>\n",
       "      <td>521</td>\n",
       "      <td>521</td>\n",
       "      <td>521</td>\n",
       "      <td>521</td>\n",
       "      <td>520</td>\n",
       "      <td>520</td>\n",
       "      <td>2013-12-21 10:46:02</td>\n",
       "      <td>2014-01-20 11:27:01</td>\n",
       "    </tr>\n",
       "    <tr>\n",
       "      <th>4</th>\n",
       "      <td>Barro Colorado Nature Monument - Soberania Nat...</td>\n",
       "      <td>CT-BCI-1-01</td>\n",
       "      <td>2014-12-15 00:00:00</td>\n",
       "      <td>2015-01-21 12:00:00</td>\n",
       "      <td>610</td>\n",
       "      <td>611</td>\n",
       "      <td>611</td>\n",
       "      <td>611</td>\n",
       "      <td>611</td>\n",
       "      <td>610</td>\n",
       "      <td>610</td>\n",
       "      <td>2014-12-15 00:00:00</td>\n",
       "      <td>2015-01-21 12:00:00</td>\n",
       "    </tr>\n",
       "  </tbody>\n",
       "</table>\n",
       "</div>"
      ],
      "text/plain": [
       "                                          Project.ID Deployment.Location.ID  \\\n",
       "0  Barro Colorado Nature Monument - Soberania Nat...            CT-BCI-1-01   \n",
       "1  Barro Colorado Nature Monument - Soberania Nat...            CT-BCI-1-01   \n",
       "2  Barro Colorado Nature Monument - Soberania Nat...            CT-BCI-1-01   \n",
       "3  Barro Colorado Nature Monument - Soberania Nat...            CT-BCI-1-01   \n",
       "4  Barro Colorado Nature Monument - Soberania Nat...            CT-BCI-1-01   \n",
       "\n",
       "  Camera.Deployment.Begin.Date Camera.Deployment.End.Date  Location  \\\n",
       "0          2011-01-15 14:08:46        2011-02-21 12:17:23       250   \n",
       "1          2011-12-16 10:55:02        2012-01-18 11:12:03       310   \n",
       "2          2012-12-21 13:49:05        2013-01-20 15:08:01       580   \n",
       "3          2013-12-21 10:46:02        2014-01-20 11:27:01       520   \n",
       "4          2014-12-15 00:00:00        2015-01-21 12:00:00       610   \n",
       "\n",
       "   Latitude.Resolution  Longitude.Resolution  Sampling.Period  \\\n",
       "0                  251                   251              251   \n",
       "1                  311                   311              311   \n",
       "2                  581                   581              581   \n",
       "3                  521                   521              521   \n",
       "4                  611                   611              611   \n",
       "\n",
       "   Camera.Serial.Number  Genus  Species Camera.Deployment.Begin.Date_datetime  \\\n",
       "0                   251    250      250                   2011-01-15 14:08:46   \n",
       "1                   311    280      280                   2011-12-16 10:55:02   \n",
       "2                   581    580      580                   2012-12-21 13:49:05   \n",
       "3                   521    520      520                   2013-12-21 10:46:02   \n",
       "4                   611    610      610                   2014-12-15 00:00:00   \n",
       "\n",
       "  Camera.Deployment.End.Date_datetime  \n",
       "0                 2011-02-21 12:17:23  \n",
       "1                 2012-01-18 11:12:03  \n",
       "2                 2013-01-20 15:08:01  \n",
       "3                 2014-01-20 11:27:01  \n",
       "4                 2015-01-21 12:00:00  "
      ]
     },
     "execution_count": 291,
     "metadata": {},
     "output_type": "execute_result"
    }
   ],
   "source": [
    "team_simple_per_location.head()"
   ]
  },
  {
   "cell_type": "code",
   "execution_count": 292,
   "metadata": {
    "collapsed": false
   },
   "outputs": [],
   "source": [
    "team_simple_per_location['trapnights'] = (team_simple_per_location['Camera.Deployment.End.Date_datetime'] \n",
    "                                          - \n",
    "        team_simple_per_location['Camera.Deployment.Begin.Date_datetime']).astype(pd.Timedelta).apply(lambda l: l.days)"
   ]
  },
  {
   "cell_type": "code",
   "execution_count": null,
   "metadata": {
    "collapsed": true
   },
   "outputs": [],
   "source": [
    "for i in range(1,len(team_simple_per_location)):\n",
    "    team_simple_per_location['Months'] = "
   ]
  },
  {
   "cell_type": "code",
   "execution_count": 293,
   "metadata": {
    "collapsed": false
   },
   "outputs": [
    {
     "ename": "TypeError",
     "evalue": "must be string, not Timestamp",
     "output_type": "error",
     "traceback": [
      "\u001b[0;31m---------------------------------------------------------------------------\u001b[0m",
      "\u001b[0;31mTypeError\u001b[0m                                 Traceback (most recent call last)",
      "\u001b[0;32m<ipython-input-293-e365eb397e33>\u001b[0m in \u001b[0;36m<module>\u001b[0;34m()\u001b[0m\n\u001b[0;32m----> 1\u001b[0;31m team_simple_per_location['Camera.Deployment.Begin.Month'] = team_simple_per_location['Camera.Deployment.Begin.Date_datetime'].apply(lambda x: \n\u001b[0m\u001b[1;32m      2\u001b[0m                                                                     datetime.datetime.strptime(x, '%m'))\n\u001b[1;32m      3\u001b[0m \u001b[0;34m\u001b[0m\u001b[0m\n\u001b[1;32m      4\u001b[0m team_simple_per_location['Camera.Deployment.End.Month'] = team_simple_per_location['Camera.Deployment.End.Date_datime'].apply(lambda x: \n\u001b[1;32m      5\u001b[0m                                                                     datetime.datetime.strptime(x, '%m'))\n",
      "\u001b[0;32m/usr/local/lib/python2.7/site-packages/pandas/core/series.pyc\u001b[0m in \u001b[0;36mapply\u001b[0;34m(self, func, convert_dtype, args, **kwds)\u001b[0m\n\u001b[1;32m   2058\u001b[0m             \u001b[0mvalues\u001b[0m \u001b[0;34m=\u001b[0m \u001b[0mlib\u001b[0m\u001b[0;34m.\u001b[0m\u001b[0mmap_infer\u001b[0m\u001b[0;34m(\u001b[0m\u001b[0mvalues\u001b[0m\u001b[0;34m,\u001b[0m \u001b[0mlib\u001b[0m\u001b[0;34m.\u001b[0m\u001b[0mTimestamp\u001b[0m\u001b[0;34m)\u001b[0m\u001b[0;34m\u001b[0m\u001b[0m\n\u001b[1;32m   2059\u001b[0m \u001b[0;34m\u001b[0m\u001b[0m\n\u001b[0;32m-> 2060\u001b[0;31m         \u001b[0mmapped\u001b[0m \u001b[0;34m=\u001b[0m \u001b[0mlib\u001b[0m\u001b[0;34m.\u001b[0m\u001b[0mmap_infer\u001b[0m\u001b[0;34m(\u001b[0m\u001b[0mvalues\u001b[0m\u001b[0;34m,\u001b[0m \u001b[0mf\u001b[0m\u001b[0;34m,\u001b[0m \u001b[0mconvert\u001b[0m\u001b[0;34m=\u001b[0m\u001b[0mconvert_dtype\u001b[0m\u001b[0;34m)\u001b[0m\u001b[0;34m\u001b[0m\u001b[0m\n\u001b[0m\u001b[1;32m   2061\u001b[0m         \u001b[0;32mif\u001b[0m \u001b[0mlen\u001b[0m\u001b[0;34m(\u001b[0m\u001b[0mmapped\u001b[0m\u001b[0;34m)\u001b[0m \u001b[0;32mand\u001b[0m \u001b[0misinstance\u001b[0m\u001b[0;34m(\u001b[0m\u001b[0mmapped\u001b[0m\u001b[0;34m[\u001b[0m\u001b[0;36m0\u001b[0m\u001b[0;34m]\u001b[0m\u001b[0;34m,\u001b[0m \u001b[0mSeries\u001b[0m\u001b[0;34m)\u001b[0m\u001b[0;34m:\u001b[0m\u001b[0;34m\u001b[0m\u001b[0m\n\u001b[1;32m   2062\u001b[0m             \u001b[0;32mfrom\u001b[0m \u001b[0mpandas\u001b[0m\u001b[0;34m.\u001b[0m\u001b[0mcore\u001b[0m\u001b[0;34m.\u001b[0m\u001b[0mframe\u001b[0m \u001b[0;32mimport\u001b[0m \u001b[0mDataFrame\u001b[0m\u001b[0;34m\u001b[0m\u001b[0m\n",
      "\u001b[0;32mpandas/src/inference.pyx\u001b[0m in \u001b[0;36mpandas.lib.map_infer (pandas/lib.c:58435)\u001b[0;34m()\u001b[0m\n",
      "\u001b[0;32m<ipython-input-293-e365eb397e33>\u001b[0m in \u001b[0;36m<lambda>\u001b[0;34m(x)\u001b[0m\n\u001b[1;32m      1\u001b[0m team_simple_per_location['Camera.Deployment.Begin.Month'] = team_simple_per_location['Camera.Deployment.Begin.Date_datetime'].apply(lambda x: \n\u001b[0;32m----> 2\u001b[0;31m                                                                     datetime.datetime.strptime(x, '%m'))\n\u001b[0m\u001b[1;32m      3\u001b[0m \u001b[0;34m\u001b[0m\u001b[0m\n\u001b[1;32m      4\u001b[0m team_simple_per_location['Camera.Deployment.End.Month'] = team_simple_per_location['Camera.Deployment.End.Date_datime'].apply(lambda x: \n\u001b[1;32m      5\u001b[0m                                                                     datetime.datetime.strptime(x, '%m'))\n",
      "\u001b[0;31mTypeError\u001b[0m: must be string, not Timestamp"
     ]
    }
   ],
   "source": [
    "team_simple_per_location['Camera.Deployment.Begin.Month'] = team_simple_per_location['Camera.Deployment.Begin.Date_datetime'].apply(lambda x: \n",
    "                                                                    datetime.datetime.strptime(x, '%m'))\n",
    "\n",
    "team_simple_per_location['Camera.Deployment.End.Month'] = team_simple_per_location['Camera.Deployment.End.Date_datime'].apply(lambda x: \n",
    "                                                                    datetime.datetime.strptime(x, '%m'))"
   ]
  },
  {
   "cell_type": "code",
   "execution_count": null,
   "metadata": {
    "collapsed": true
   },
   "outputs": [],
   "source": []
  },
  {
   "cell_type": "code",
   "execution_count": 268,
   "metadata": {
    "collapsed": false
   },
   "outputs": [
    {
     "ename": "AttributeError",
     "evalue": "'numpy.timedelta64' object has no attribute 'days'",
     "output_type": "error",
     "traceback": [
      "\u001b[0;31m---------------------------------------------------------------------------\u001b[0m",
      "\u001b[0;31mAttributeError\u001b[0m                            Traceback (most recent call last)",
      "\u001b[0;32m<ipython-input-268-a76f253cd866>\u001b[0m in \u001b[0;36m<module>\u001b[0;34m()\u001b[0m\n\u001b[0;32m----> 1\u001b[0;31m \u001b[0mteam_simple_per_location\u001b[0m\u001b[0;34m[\u001b[0m\u001b[0;34m'trapnights'\u001b[0m\u001b[0;34m]\u001b[0m\u001b[0;34m.\u001b[0m\u001b[0mapply\u001b[0m\u001b[0;34m(\u001b[0m\u001b[0;32mlambda\u001b[0m \u001b[0mx\u001b[0m\u001b[0;34m:\u001b[0m \u001b[0mx\u001b[0m\u001b[0;34m.\u001b[0m\u001b[0mdays\u001b[0m\u001b[0;34m)\u001b[0m\u001b[0;34m\u001b[0m\u001b[0m\n\u001b[0m",
      "\u001b[0;32m/usr/local/lib/python2.7/site-packages/pandas/core/series.pyc\u001b[0m in \u001b[0;36mapply\u001b[0;34m(self, func, convert_dtype, args, **kwds)\u001b[0m\n\u001b[1;32m   2058\u001b[0m             \u001b[0mvalues\u001b[0m \u001b[0;34m=\u001b[0m \u001b[0mlib\u001b[0m\u001b[0;34m.\u001b[0m\u001b[0mmap_infer\u001b[0m\u001b[0;34m(\u001b[0m\u001b[0mvalues\u001b[0m\u001b[0;34m,\u001b[0m \u001b[0mlib\u001b[0m\u001b[0;34m.\u001b[0m\u001b[0mTimestamp\u001b[0m\u001b[0;34m)\u001b[0m\u001b[0;34m\u001b[0m\u001b[0m\n\u001b[1;32m   2059\u001b[0m \u001b[0;34m\u001b[0m\u001b[0m\n\u001b[0;32m-> 2060\u001b[0;31m         \u001b[0mmapped\u001b[0m \u001b[0;34m=\u001b[0m \u001b[0mlib\u001b[0m\u001b[0;34m.\u001b[0m\u001b[0mmap_infer\u001b[0m\u001b[0;34m(\u001b[0m\u001b[0mvalues\u001b[0m\u001b[0;34m,\u001b[0m \u001b[0mf\u001b[0m\u001b[0;34m,\u001b[0m \u001b[0mconvert\u001b[0m\u001b[0;34m=\u001b[0m\u001b[0mconvert_dtype\u001b[0m\u001b[0;34m)\u001b[0m\u001b[0;34m\u001b[0m\u001b[0m\n\u001b[0m\u001b[1;32m   2061\u001b[0m         \u001b[0;32mif\u001b[0m \u001b[0mlen\u001b[0m\u001b[0;34m(\u001b[0m\u001b[0mmapped\u001b[0m\u001b[0;34m)\u001b[0m \u001b[0;32mand\u001b[0m \u001b[0misinstance\u001b[0m\u001b[0;34m(\u001b[0m\u001b[0mmapped\u001b[0m\u001b[0;34m[\u001b[0m\u001b[0;36m0\u001b[0m\u001b[0;34m]\u001b[0m\u001b[0;34m,\u001b[0m \u001b[0mSeries\u001b[0m\u001b[0;34m)\u001b[0m\u001b[0;34m:\u001b[0m\u001b[0;34m\u001b[0m\u001b[0m\n\u001b[1;32m   2062\u001b[0m             \u001b[0;32mfrom\u001b[0m \u001b[0mpandas\u001b[0m\u001b[0;34m.\u001b[0m\u001b[0mcore\u001b[0m\u001b[0;34m.\u001b[0m\u001b[0mframe\u001b[0m \u001b[0;32mimport\u001b[0m \u001b[0mDataFrame\u001b[0m\u001b[0;34m\u001b[0m\u001b[0m\n",
      "\u001b[0;32mpandas/src/inference.pyx\u001b[0m in \u001b[0;36mpandas.lib.map_infer (pandas/lib.c:58435)\u001b[0;34m()\u001b[0m\n",
      "\u001b[0;32m<ipython-input-268-a76f253cd866>\u001b[0m in \u001b[0;36m<lambda>\u001b[0;34m(x)\u001b[0m\n\u001b[0;32m----> 1\u001b[0;31m \u001b[0mteam_simple_per_location\u001b[0m\u001b[0;34m[\u001b[0m\u001b[0;34m'trapnights'\u001b[0m\u001b[0;34m]\u001b[0m\u001b[0;34m.\u001b[0m\u001b[0mapply\u001b[0m\u001b[0;34m(\u001b[0m\u001b[0;32mlambda\u001b[0m \u001b[0mx\u001b[0m\u001b[0;34m:\u001b[0m \u001b[0mx\u001b[0m\u001b[0;34m.\u001b[0m\u001b[0mdays\u001b[0m\u001b[0;34m)\u001b[0m\u001b[0;34m\u001b[0m\u001b[0m\n\u001b[0m",
      "\u001b[0;31mAttributeError\u001b[0m: 'numpy.timedelta64' object has no attribute 'days'"
     ]
    }
   ],
   "source": [
    "team_simple_per_location['trapnights'].apply(lambda x: x.days)"
   ]
  },
  {
   "cell_type": "code",
   "execution_count": null,
   "metadata": {
    "collapsed": true
   },
   "outputs": [],
   "source": []
  }
 ],
 "metadata": {
  "kernelspec": {
   "display_name": "Python 2",
   "language": "python",
   "name": "python2"
  },
  "language_info": {
   "codemirror_mode": {
    "name": "ipython",
    "version": 2
   },
   "file_extension": ".py",
   "mimetype": "text/x-python",
   "name": "python",
   "nbconvert_exporter": "python",
   "pygments_lexer": "ipython2",
   "version": "2.7.10"
  }
 },
 "nbformat": 4,
 "nbformat_minor": 0
}
