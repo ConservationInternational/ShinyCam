{
 "cells": [
  {
   "cell_type": "code",
   "execution_count": 1,
   "metadata": {
    "collapsed": false
   },
   "outputs": [
    {
     "name": "stderr",
     "output_type": "stream",
     "text": [
      "/Users/terencekwt/Code/datadive_201608_ci/env/lib/python2.7/site-packages/matplotlib/font_manager.py:273: UserWarning: Matplotlib is building the font cache using fc-list. This may take a moment.\n",
      "  warnings.warn('Matplotlib is building the font cache using fc-list. This may take a moment.')\n"
     ]
    }
   ],
   "source": [
    "import pandas as pd, numpy as np, datetime, math, matplotlib.pyplot as plt, calendar\n",
    "%matplotlib inline"
   ]
  },
  {
   "cell_type": "code",
   "execution_count": 2,
   "metadata": {
    "collapsed": false
   },
   "outputs": [
    {
     "name": "stderr",
     "output_type": "stream",
     "text": [
      "/Users/terencekwt/Code/datadive_201608_ci/env/lib/python2.7/site-packages/IPython/core/interactiveshell.py:2717: DtypeWarning: Columns (11,20,21,22,27,28,30,31,32,33,35,38) have mixed types. Specify dtype option on import or set low_memory=False.\n",
      "  interactivity=interactivity, compiler=compiler, result=result)\n"
     ]
    }
   ],
   "source": [
    "marin = pd.read_csv('../data/StandardizedData/Marin_Merged.csv')\n",
    "team = pd.read_csv('../data/StandardizedData/Terrestrial_Vertebrate_Cols_Edited.csv')"
   ]
  },
  {
   "cell_type": "code",
   "execution_count": 3,
   "metadata": {
    "collapsed": false
   },
   "outputs": [
    {
     "data": {
      "text/plain": [
       "Index([u'Unnamed: 0', u'Project.ID', u'Deployment.ID', u'Image.ID',\n",
       "       u'Location', u'Photo.Type', u'Photo.Type.Identified.by',\n",
       "       u'Genus.Species', u'Uncertainty', u'IUCN.Identification.Number',\n",
       "       u'Date_Time.Captured', u'Age', u'Sex', u'Individual.ID', u'Count',\n",
       "       u'Animal.recognizable..Y.N.', u'individual.Animal.notes',\n",
       "       u'Project.ID.x', u'Event', u'Array.Name', u'Deployment.Location.ID',\n",
       "       u'Longitude.Resolution', u'Latitude.Resolution',\n",
       "       u'Camera.Deployment.Begin.Date', u'Camera.Deployment.End.Date',\n",
       "       u'Bait.Type', u'Bait.Description', u'Feature.Type',\n",
       "       u'Feature.Type.methodology', u'Camera.ID', u'Quiet.Period.Setting',\n",
       "       u'Restriction.on.access', u'Camera.Failure.Details', u'Project.ID.y',\n",
       "       u'Make', u'Model', u'Serial.Number', u'Year.Purchased', u'Genus',\n",
       "       u'Species'],\n",
       "      dtype='object')"
      ]
     },
     "execution_count": 3,
     "metadata": {},
     "output_type": "execute_result"
    }
   ],
   "source": [
    "#columns of the marin dataset\n",
    "marin.columns"
   ]
  },
  {
   "cell_type": "code",
   "execution_count": 4,
   "metadata": {
    "collapsed": false
   },
   "outputs": [
    {
     "data": {
      "text/plain": [
       "8"
      ]
     },
     "execution_count": 4,
     "metadata": {},
     "output_type": "execute_result"
    }
   ],
   "source": [
    "# Number of locations \n",
    "\n",
    "len(set(marin['Deployment.Location.ID']))"
   ]
  },
  {
   "cell_type": "code",
   "execution_count": 5,
   "metadata": {
    "collapsed": false
   },
   "outputs": [
    {
     "data": {
      "text/plain": [
       "1"
      ]
     },
     "execution_count": 5,
     "metadata": {},
     "output_type": "execute_result"
    }
   ],
   "source": [
    "# Number of projects\n",
    "\n",
    "len(set(marin['Project.ID']))"
   ]
  },
  {
   "cell_type": "code",
   "execution_count": 6,
   "metadata": {
    "collapsed": false
   },
   "outputs": [
    {
     "data": {
      "text/plain": [
       "<pandas.core.groupby.DataFrameGroupBy object at 0x125895350>"
      ]
     },
     "execution_count": 6,
     "metadata": {},
     "output_type": "execute_result"
    }
   ],
   "source": [
    "# SELECT the projections that we actually need\n",
    "marin_simple = marin[['Project.ID',\n",
    "'Deployment.Location.ID',\n",
    "'Camera.Deployment.Begin.Date',\n",
    "'Camera.Deployment.End.Date']]\n",
    "\n",
    "\n",
    "marin_simple_per_location = marin_simple.groupby(['Project.ID', 'Deployment.Location.ID', 'Camera.Deployment.Begin.Date', 'Camera.Deployment.End.Date'])\n",
    "marin_simple_per_location"
   ]
  },
  {
   "cell_type": "code",
   "execution_count": 7,
   "metadata": {
    "collapsed": false
   },
   "outputs": [],
   "source": [
    "marin_simple_per_location = marin_simple_per_location.count().reset_index()"
   ]
  },
  {
   "cell_type": "code",
   "execution_count": 8,
   "metadata": {
    "collapsed": false
   },
   "outputs": [],
   "source": [
    "marin_simple_per_location['Camera.Deployment.Begin.Date_datetime'] = marin_simple_per_location['Camera.Deployment.Begin.Date'].apply(lambda x: \n",
    "                                                                    datetime.datetime.strptime(x, '%Y-%m-%d'))\n",
    "\n",
    "marin_simple_per_location['Camera.Deployment.End.Date_datetime'] = marin_simple_per_location['Camera.Deployment.End.Date'].apply(lambda x: \n",
    "                                                                    datetime.datetime.strptime(x, '%Y-%m-%d'))\n",
    "\n",
    "marin_simple_per_location['trapnights'] = (marin_simple_per_location['Camera.Deployment.End.Date_datetime'] \n",
    "                                          - \n",
    "        marin_simple_per_location['Camera.Deployment.Begin.Date_datetime']).astype(pd.Timedelta).apply(lambda l: l.days)"
   ]
  },
  {
   "cell_type": "code",
   "execution_count": 9,
   "metadata": {
    "collapsed": false
   },
   "outputs": [
    {
     "data": {
      "text/html": [
       "<div>\n",
       "<table border=\"1\" class=\"dataframe\">\n",
       "  <thead>\n",
       "    <tr style=\"text-align: right;\">\n",
       "      <th></th>\n",
       "      <th>Project.ID</th>\n",
       "      <th>Deployment.Location.ID</th>\n",
       "      <th>Camera.Deployment.Begin.Date</th>\n",
       "      <th>Camera.Deployment.End.Date</th>\n",
       "      <th>Camera.Deployment.Begin.Date_datetime</th>\n",
       "      <th>Camera.Deployment.End.Date_datetime</th>\n",
       "      <th>trapnights</th>\n",
       "    </tr>\n",
       "  </thead>\n",
       "  <tbody>\n",
       "    <tr>\n",
       "      <th>0</th>\n",
       "      <td>ChedaJewel</td>\n",
       "      <td>WW63</td>\n",
       "      <td>2014-09-22</td>\n",
       "      <td>2014-10-17</td>\n",
       "      <td>2014-09-22</td>\n",
       "      <td>2014-10-17</td>\n",
       "      <td>25</td>\n",
       "    </tr>\n",
       "    <tr>\n",
       "      <th>1</th>\n",
       "      <td>ChedaJewel</td>\n",
       "      <td>WW63</td>\n",
       "      <td>2014-10-17</td>\n",
       "      <td>2014-12-17</td>\n",
       "      <td>2014-10-17</td>\n",
       "      <td>2014-12-17</td>\n",
       "      <td>61</td>\n",
       "    </tr>\n",
       "    <tr>\n",
       "      <th>2</th>\n",
       "      <td>ChedaJewel</td>\n",
       "      <td>WW63</td>\n",
       "      <td>2014-12-17</td>\n",
       "      <td>2015-02-04</td>\n",
       "      <td>2014-12-17</td>\n",
       "      <td>2015-02-04</td>\n",
       "      <td>49</td>\n",
       "    </tr>\n",
       "    <tr>\n",
       "      <th>3</th>\n",
       "      <td>ChedaJewel</td>\n",
       "      <td>WW63</td>\n",
       "      <td>2015-02-04</td>\n",
       "      <td>2015-04-07</td>\n",
       "      <td>2015-02-04</td>\n",
       "      <td>2015-04-07</td>\n",
       "      <td>62</td>\n",
       "    </tr>\n",
       "    <tr>\n",
       "      <th>4</th>\n",
       "      <td>ChedaJewel</td>\n",
       "      <td>WW63</td>\n",
       "      <td>2015-04-07</td>\n",
       "      <td>2015-06-02</td>\n",
       "      <td>2015-04-07</td>\n",
       "      <td>2015-06-02</td>\n",
       "      <td>56</td>\n",
       "    </tr>\n",
       "  </tbody>\n",
       "</table>\n",
       "</div>"
      ],
      "text/plain": [
       "   Project.ID Deployment.Location.ID Camera.Deployment.Begin.Date  \\\n",
       "0  ChedaJewel                   WW63                   2014-09-22   \n",
       "1  ChedaJewel                   WW63                   2014-10-17   \n",
       "2  ChedaJewel                   WW63                   2014-12-17   \n",
       "3  ChedaJewel                   WW63                   2015-02-04   \n",
       "4  ChedaJewel                   WW63                   2015-04-07   \n",
       "\n",
       "  Camera.Deployment.End.Date Camera.Deployment.Begin.Date_datetime  \\\n",
       "0                 2014-10-17                            2014-09-22   \n",
       "1                 2014-12-17                            2014-10-17   \n",
       "2                 2015-02-04                            2014-12-17   \n",
       "3                 2015-04-07                            2015-02-04   \n",
       "4                 2015-06-02                            2015-04-07   \n",
       "\n",
       "  Camera.Deployment.End.Date_datetime  trapnights  \n",
       "0                          2014-10-17          25  \n",
       "1                          2014-12-17          61  \n",
       "2                          2015-02-04          49  \n",
       "3                          2015-04-07          62  \n",
       "4                          2015-06-02          56  "
      ]
     },
     "execution_count": 9,
     "metadata": {},
     "output_type": "execute_result"
    }
   ],
   "source": [
    "marin_simple_per_location.head()"
   ]
  },
  {
   "cell_type": "code",
   "execution_count": 43,
   "metadata": {
    "collapsed": false
   },
   "outputs": [
    {
     "name": "stdout",
     "output_type": "stream",
     "text": [
      "{9: 9, 10: 16}\n"
     ]
    }
   ],
   "source": [
    "#Generate a trap night count for each unique {ProjectId + DeploymentId + Month}\n",
    "\n",
    "from dateutil.relativedelta import relativedelta\n",
    "\n",
    "def getDaysInMonth(date):\n",
    "    '''\n",
    "    For a specific day d, it will return the number of days between d and the end of the month\n",
    "    '''\n",
    "    endDate = date + relativedelta(day=1, months=+1, days=-1)\n",
    "    return (endDate - date).days + 1\n",
    "\n",
    "def genCountByMonth(start, end):\n",
    "    '''\n",
    "    Given a date range, it will return a dictionary of tuples for (month, trapnight counts)\n",
    "    '''\n",
    "    totalcount = (end - start).days\n",
    "    results = {}\n",
    "    while totalcount > 0:\n",
    "        daysInCurrentMonth = min(totalcount,getDaysInMonth(start))\n",
    "        if(start.month in results.keys()):\n",
    "            results[start.month] += daysInCurrentMonth\n",
    "        else:\n",
    "            results[start.month] = daysInCurrentMonth\n",
    "        totalcount -= daysInCurrentMonth\n",
    "        start += relativedelta(day=1, months=+1)\n",
    "    return results\n",
    "\n",
    "print genCountByMonth(marin_simple_per_location['Camera.Deployment.Begin.Date_datetime'][0], marin_simple_per_location['Camera.Deployment.End.Date_datetime'][0])"
   ]
  },
  {
   "cell_type": "code",
   "execution_count": 44,
   "metadata": {
    "collapsed": false
   },
   "outputs": [
    {
     "name": "stdout",
     "output_type": "stream",
     "text": [
      "{9: 9, 10: 16}\n",
      "{10: 15, 11: 30, 12: 16}\n",
      "{1: 31, 2: 3, 12: 15}\n",
      "{2: 25, 3: 31, 4: 6}\n",
      "{4: 24, 5: 31, 6: 1}\n",
      "{6: 29, 7: 21}\n",
      "{8: 31, 9: 13, 7: 10}\n",
      "{9: 17, 10: 31, 11: 18}\n",
      "{1: 12, 11: 12, 12: 31}\n",
      "{1: 19, 2: 21}\n",
      "{2: 8, 3: 28}\n",
      "{9: 9, 10: 16}\n",
      "{10: 15, 11: 30, 12: 16}\n",
      "{1: 31, 2: 3, 12: 15}\n",
      "{2: 25, 3: 31, 4: 6}\n",
      "{4: 24, 5: 31, 6: 1}\n",
      "{6: 29, 7: 14}\n",
      "{8: 31, 9: 13, 7: 17}\n",
      "{9: 17, 10: 31, 11: 18}\n",
      "{1: 12, 11: 12, 12: 31}\n",
      "{1: 19, 2: 21}\n",
      "{9: 9, 10: 16}\n",
      "{10: 15, 11: 30, 12: 16}\n",
      "{1: 31, 2: 3, 12: 15}\n",
      "{2: 25, 3: 31, 4: 6}\n",
      "{4: 24, 5: 31, 6: 1}\n",
      "{6: 29, 7: 14}\n",
      "{8: 31, 9: 13, 7: 17}\n",
      "{9: 17, 10: 31, 11: 18}\n",
      "{1: 12, 11: 12, 12: 31}\n",
      "{1: 19, 2: 21}\n",
      "{2: 8, 3: 28}\n",
      "{9: 9, 10: 26}\n",
      "{10: 5, 11: 30, 12: 21}\n",
      "{1: 31, 2: 2, 12: 10}\n",
      "{2: 26, 3: 31, 4: 13}\n",
      "{6: 16, 7: 21}\n",
      "{8: 31, 9: 29, 7: 10}\n",
      "{9: 1, 10: 31, 11: 24}\n",
      "{1: 14, 11: 6, 12: 31}\n",
      "{1: 17, 2: 21}\n",
      "{2: 8, 3: 31, 4: 7}\n",
      "{9: 9, 10: 23}\n",
      "{10: 8, 11: 30, 12: 16}\n",
      "{1: 31, 2: 3, 12: 15}\n",
      "{2: 25, 3: 25}\n",
      "{3: 6, 4: 13}\n",
      "{4: 17, 5: 31, 6: 1}\n",
      "{8: 31, 9: 13, 7: 17}\n",
      "{9: 17, 10: 31, 11: 24}\n",
      "{1: 7, 11: 6, 12: 31}\n",
      "{1: 24, 2: 21}\n",
      "{9: 9, 10: 16}\n",
      "{10: 15, 11: 30, 12: 16}\n",
      "{1: 31, 2: 3, 12: 15}\n",
      "{2: 25, 3: 25}\n",
      "{3: 6, 4: 30, 5: 31, 6: 1}\n",
      "{6: 29, 7: 14}\n",
      "{8: 31, 9: 13, 7: 17}\n",
      "{9: 17, 10: 31, 11: 15}\n",
      "{1: 24, 2: 21}\n",
      "{2: 8, 3: 27}\n",
      "{9: 9, 10: 16}\n",
      "{10: 8, 11: 30, 12: 21}\n",
      "{1: 31, 2: 3, 12: 10}\n",
      "{2: 25, 3: 22}\n",
      "{3: 9, 4: 30, 5: 31, 6: 1}\n",
      "{6: 29, 7: 21}\n",
      "{9: 17, 10: 31, 11: 15}\n",
      "{11: 15, 12: 14}\n",
      "{1: 7, 12: 17}\n",
      "{9: 7, 10: 23}\n",
      "{10: 8, 11: 30, 12: 21}\n",
      "{1: 31, 2: 3, 12: 10}\n",
      "{2: 25, 3: 25}\n",
      "{3: 6, 4: 30, 5: 31, 6: 17}\n",
      "{6: 12, 7: 21}\n",
      "{8: 31, 9: 13, 7: 10}\n",
      "{9: 17, 10: 31, 11: 15}\n",
      "{1: 7, 11: 15, 12: 31}\n",
      "{1: 24, 2: 21}\n",
      "{2: 8, 3: 27}\n"
     ]
    }
   ],
   "source": [
    "for i in range(0,len(marin_simple_per_location)):\n",
    "    print genCountByMonth(marin_simple_per_location['Camera.Deployment.Begin.Date_datetime'][i], marin_simple_per_location['Camera.Deployment.End.Date_datetime'][i])"
   ]
  }
 ],
 "metadata": {
  "kernelspec": {
   "display_name": "Python 2",
   "language": "python",
   "name": "python2"
  },
  "language_info": {
   "codemirror_mode": {
    "name": "ipython",
    "version": 2
   },
   "file_extension": ".py",
   "mimetype": "text/x-python",
   "name": "python",
   "nbconvert_exporter": "python",
   "pygments_lexer": "ipython2",
   "version": "2.7.10"
  }
 },
 "nbformat": 4,
 "nbformat_minor": 0
}
